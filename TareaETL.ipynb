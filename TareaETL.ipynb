{
 "cells": [
  {
   "cell_type": "code",
   "execution_count": 33,
   "metadata": {},
   "outputs": [],
   "source": [
    "import polars as pl\n",
    "from polars import Config"
   ]
  },
  {
   "cell_type": "code",
   "execution_count": 34,
   "metadata": {},
   "outputs": [
    {
     "data": {
      "text/plain": [
       "polars.config.Config"
      ]
     },
     "execution_count": 34,
     "metadata": {},
     "output_type": "execute_result"
    }
   ],
   "source": [
    "Config.set_fmt_str_lengths(150)"
   ]
  },
  {
   "cell_type": "markdown",
   "metadata": {},
   "source": [
    "## TICKETS"
   ]
  },
  {
   "cell_type": "code",
   "execution_count": 35,
   "metadata": {},
   "outputs": [
    {
     "data": {
      "text/html": [
       "<div><style>\n",
       ".dataframe > thead > tr,\n",
       ".dataframe > tbody > tr {\n",
       "  text-align: right;\n",
       "  white-space: pre-wrap;\n",
       "}\n",
       "</style>\n",
       "<small>shape: (10, 7)</small><table border=\"1\" class=\"dataframe\"><thead><tr><th>TicketID</th><th>Ubicacion</th><th>Service Desk</th><th>Estado</th><th>Fecha Creacion</th><th>Fecha Termino</th><th>Fecha Cierre</th></tr><tr><td>str</td><td>str</td><td>str</td><td>str</td><td>date</td><td>date</td><td>date</td></tr></thead><tbody><tr><td>&quot;WO0000004122687&quot;</td><td>&quot;AREQUIPA - 215000&quot;</td><td>&quot;Zona Norte&quot;</td><td>&quot;Cerrado&quot;</td><td>2022-06-01</td><td>2022-06-14</td><td>2022-06-14</td></tr><tr><td>&quot;WO0000004122649&quot;</td><td>&quot;METRO AV. WIESSE - 191106&quot;</td><td>&quot;Zona Centro&quot;</td><td>&quot;Cerrado&quot;</td><td>2022-06-01</td><td>2022-06-17</td><td>2022-06-17</td></tr><tr><td>&quot;WO0000004122502&quot;</td><td>&quot;NICOLAS AYLLON - 191027&quot;</td><td>&quot;Zona Centro&quot;</td><td>&quot;Cerrado&quot;</td><td>2022-06-01</td><td>2022-06-08</td><td>2022-06-08</td></tr><tr><td>&quot;WO0000004122513&quot;</td><td>&quot;JAUREGUI - 405005&quot;</td><td>&quot;Zona Norte&quot;</td><td>&quot;Cerrado&quot;</td><td>2022-06-01</td><td>2022-06-18</td><td>2022-06-18</td></tr><tr><td>&quot;WO0000004122741&quot;</td><td>&quot;CANTO GRANDE - 191096&quot;</td><td>&quot;Zona Centro&quot;</td><td>&quot;Cerrado&quot;</td><td>2022-06-01</td><td>2022-06-08</td><td>2022-06-08</td></tr><tr><td>&quot;WO0000004122511&quot;</td><td>&quot;CHIMPU OCLLO - 191113&quot;</td><td>&quot;Zona Centro&quot;</td><td>&quot;Cerrado&quot;</td><td>2022-06-01</td><td>2022-06-03</td><td>2022-06-03</td></tr><tr><td>&quot;WO0000004122522&quot;</td><td>&quot;MINI AGENCIA BCP SALAMANCA - 191090&quot;</td><td>&quot;Zona Centro&quot;</td><td>&quot;Cerrado&quot;</td><td>2022-06-01</td><td>2022-06-07</td><td>2022-06-07</td></tr><tr><td>&quot;WO0000004122302&quot;</td><td>&quot;IMPERIAL - 255001&quot;</td><td>&quot;Zona Norte&quot;</td><td>&quot;Cerrado&quot;</td><td>2022-06-01</td><td>2022-06-10</td><td>2022-06-10</td></tr><tr><td>&quot;WO0000004122360&quot;</td><td>&quot;AREQUIPA - 215000&quot;</td><td>&quot;Zona Norte&quot;</td><td>&quot;Cerrado&quot;</td><td>2022-06-01</td><td>2022-06-13</td><td>2022-06-13</td></tr><tr><td>&quot;WO0000004122688&quot;</td><td>&quot;AREQUIPA - 215000&quot;</td><td>&quot;Zona Norte&quot;</td><td>&quot;Cerrado&quot;</td><td>2022-06-01</td><td>2022-06-17</td><td>2022-06-17</td></tr></tbody></table></div>"
      ],
      "text/plain": [
       "shape: (10, 7)\n",
       "┌──────────────┬──────────────┬──────────────┬─────────┬──────────────┬──────────────┬─────────────┐\n",
       "│ TicketID     ┆ Ubicacion    ┆ Service Desk ┆ Estado  ┆ Fecha        ┆ Fecha        ┆ Fecha       │\n",
       "│ ---          ┆ ---          ┆ ---          ┆ ---     ┆ Creacion     ┆ Termino      ┆ Cierre      │\n",
       "│ str          ┆ str          ┆ str          ┆ str     ┆ ---          ┆ ---          ┆ ---         │\n",
       "│              ┆              ┆              ┆         ┆ date         ┆ date         ┆ date        │\n",
       "╞══════════════╪══════════════╪══════════════╪═════════╪══════════════╪══════════════╪═════════════╡\n",
       "│ WO0000004122 ┆ AREQUIPA -   ┆ Zona Norte   ┆ Cerrado ┆ 2022-06-01   ┆ 2022-06-14   ┆ 2022-06-14  │\n",
       "│ 687          ┆ 215000       ┆              ┆         ┆              ┆              ┆             │\n",
       "│ WO0000004122 ┆ METRO AV.    ┆ Zona Centro  ┆ Cerrado ┆ 2022-06-01   ┆ 2022-06-17   ┆ 2022-06-17  │\n",
       "│ 649          ┆ WIESSE -     ┆              ┆         ┆              ┆              ┆             │\n",
       "│              ┆ 191106       ┆              ┆         ┆              ┆              ┆             │\n",
       "│ WO0000004122 ┆ NICOLAS      ┆ Zona Centro  ┆ Cerrado ┆ 2022-06-01   ┆ 2022-06-08   ┆ 2022-06-08  │\n",
       "│ 502          ┆ AYLLON -     ┆              ┆         ┆              ┆              ┆             │\n",
       "│              ┆ 191027       ┆              ┆         ┆              ┆              ┆             │\n",
       "│ WO0000004122 ┆ JAUREGUI -   ┆ Zona Norte   ┆ Cerrado ┆ 2022-06-01   ┆ 2022-06-18   ┆ 2022-06-18  │\n",
       "│ 513          ┆ 405005       ┆              ┆         ┆              ┆              ┆             │\n",
       "│ WO0000004122 ┆ CANTO GRANDE ┆ Zona Centro  ┆ Cerrado ┆ 2022-06-01   ┆ 2022-06-08   ┆ 2022-06-08  │\n",
       "│ 741          ┆ - 191096     ┆              ┆         ┆              ┆              ┆             │\n",
       "│ WO0000004122 ┆ CHIMPU OCLLO ┆ Zona Centro  ┆ Cerrado ┆ 2022-06-01   ┆ 2022-06-03   ┆ 2022-06-03  │\n",
       "│ 511          ┆ - 191113     ┆              ┆         ┆              ┆              ┆             │\n",
       "│ WO0000004122 ┆ MINI AGENCIA ┆ Zona Centro  ┆ Cerrado ┆ 2022-06-01   ┆ 2022-06-07   ┆ 2022-06-07  │\n",
       "│ 522          ┆ BCP          ┆              ┆         ┆              ┆              ┆             │\n",
       "│              ┆ SALAMANCA -  ┆              ┆         ┆              ┆              ┆             │\n",
       "│              ┆ 191090       ┆              ┆         ┆              ┆              ┆             │\n",
       "│ WO0000004122 ┆ IMPERIAL -   ┆ Zona Norte   ┆ Cerrado ┆ 2022-06-01   ┆ 2022-06-10   ┆ 2022-06-10  │\n",
       "│ 302          ┆ 255001       ┆              ┆         ┆              ┆              ┆             │\n",
       "│ WO0000004122 ┆ AREQUIPA -   ┆ Zona Norte   ┆ Cerrado ┆ 2022-06-01   ┆ 2022-06-13   ┆ 2022-06-13  │\n",
       "│ 360          ┆ 215000       ┆              ┆         ┆              ┆              ┆             │\n",
       "│ WO0000004122 ┆ AREQUIPA -   ┆ Zona Norte   ┆ Cerrado ┆ 2022-06-01   ┆ 2022-06-17   ┆ 2022-06-17  │\n",
       "│ 688          ┆ 215000       ┆              ┆         ┆              ┆              ┆             │\n",
       "└──────────────┴──────────────┴──────────────┴─────────┴──────────────┴──────────────┴─────────────┘"
      ]
     },
     "execution_count": 35,
     "metadata": {},
     "output_type": "execute_result"
    }
   ],
   "source": [
    "historico = pl.read_csv(\n",
    "    source='./Tickets/Tickets Historico.txt', \n",
    "    separator=';', \n",
    "    columns=['Numero Ticket','Ubicacion','Service Desk','Estado','Fecha Creacion','Fecha Termino','Fecha Cierre'],\n",
    "    try_parse_dates= True,\n",
    "    ignore_errors= True\n",
    ").rename(\n",
    "    {'Numero Ticket': 'TicketID'}\n",
    ")\n",
    "\n",
    "historico.head(10)"
   ]
  },
  {
   "cell_type": "code",
   "execution_count": 36,
   "metadata": {},
   "outputs": [
    {
     "data": {
      "text/html": [
       "<div><style>\n",
       ".dataframe > thead > tr,\n",
       ".dataframe > tbody > tr {\n",
       "  text-align: right;\n",
       "  white-space: pre-wrap;\n",
       "}\n",
       "</style>\n",
       "<small>shape: (10, 7)</small><table border=\"1\" class=\"dataframe\"><thead><tr><th>TicketID</th><th>Ubicacion</th><th>Service Desk</th><th>Estado</th><th>Fecha Creacion</th><th>Fecha Termino</th><th>Fecha Cierre</th></tr><tr><td>str</td><td>str</td><td>str</td><td>str</td><td>date</td><td>date</td><td>date</td></tr></thead><tbody><tr><td>&quot;WO0000004853311&quot;</td><td>&quot;TUPAC AMARU - 191038&quot;</td><td>&quot;Zona Centro&quot;</td><td>&quot;Cerrado&quot;</td><td>2023-01-02</td><td>2023-01-10</td><td>2023-01-13</td></tr><tr><td>&quot;WO0000004852942&quot;</td><td>&quot;SAN JUAN DE LURIGANCHO - 191017&quot;</td><td>&quot;Zona Centro&quot;</td><td>&quot;Cerrado&quot;</td><td>2023-01-02</td><td>2023-01-02</td><td>2023-01-05</td></tr><tr><td>&quot;WO0000004852621&quot;</td><td>&quot;MARIANO MELGAR - 215014&quot;</td><td>&quot;Zona Norte&quot;</td><td>&quot;Cerrado&quot;</td><td>2023-01-02</td><td>2023-01-06</td><td>2023-01-09</td></tr><tr><td>&quot;SA0000004853328&quot;</td><td>&quot;ANDAHUAYLAS - 205000&quot;</td><td>&quot;Zona Norte&quot;</td><td>&quot;Cerrado&quot;</td><td>2023-01-02</td><td>2023-01-07</td><td>2023-01-10</td></tr><tr><td>&quot;SA0000004853160&quot;</td><td>&quot;COLLIQUE - 191065&quot;</td><td>&quot;Zona Centro&quot;</td><td>&quot;Cerrado&quot;</td><td>2023-01-02</td><td>2023-01-04</td><td>2023-01-07</td></tr><tr><td>&quot;SA0000004853158&quot;</td><td>&quot;COLLIQUE - 191065&quot;</td><td>&quot;Zona Centro&quot;</td><td>&quot;Cerrado&quot;</td><td>2023-01-02</td><td>2023-01-06</td><td>2023-01-09</td></tr><tr><td>&quot;SA0000004853157&quot;</td><td>&quot;COLLIQUE - 191065&quot;</td><td>&quot;Zona Centro&quot;</td><td>&quot;Cerrado&quot;</td><td>2023-01-02</td><td>2023-01-04</td><td>2023-01-07</td></tr><tr><td>&quot;SA0000004853156&quot;</td><td>&quot;COLLIQUE - 191065&quot;</td><td>&quot;Zona Centro&quot;</td><td>&quot;Cerrado&quot;</td><td>2023-01-02</td><td>2023-01-15</td><td>2023-01-18</td></tr><tr><td>&quot;WO0000004853328&quot;</td><td>&quot;ANDAHUAYLAS - 205000&quot;</td><td>&quot;Zona Norte&quot;</td><td>&quot;Cerrado&quot;</td><td>2023-01-02</td><td>2023-01-07</td><td>2023-01-10</td></tr><tr><td>&quot;WO0000004853160&quot;</td><td>&quot;COLLIQUE - 191065&quot;</td><td>&quot;Zona Centro&quot;</td><td>&quot;Cerrado&quot;</td><td>2023-01-02</td><td>2023-01-04</td><td>2023-01-07</td></tr></tbody></table></div>"
      ],
      "text/plain": [
       "shape: (10, 7)\n",
       "┌──────────────┬──────────────┬──────────────┬─────────┬──────────────┬──────────────┬─────────────┐\n",
       "│ TicketID     ┆ Ubicacion    ┆ Service Desk ┆ Estado  ┆ Fecha        ┆ Fecha        ┆ Fecha       │\n",
       "│ ---          ┆ ---          ┆ ---          ┆ ---     ┆ Creacion     ┆ Termino      ┆ Cierre      │\n",
       "│ str          ┆ str          ┆ str          ┆ str     ┆ ---          ┆ ---          ┆ ---         │\n",
       "│              ┆              ┆              ┆         ┆ date         ┆ date         ┆ date        │\n",
       "╞══════════════╪══════════════╪══════════════╪═════════╪══════════════╪══════════════╪═════════════╡\n",
       "│ WO0000004853 ┆ TUPAC AMARU  ┆ Zona Centro  ┆ Cerrado ┆ 2023-01-02   ┆ 2023-01-10   ┆ 2023-01-13  │\n",
       "│ 311          ┆ - 191038     ┆              ┆         ┆              ┆              ┆             │\n",
       "│ WO0000004852 ┆ SAN JUAN DE  ┆ Zona Centro  ┆ Cerrado ┆ 2023-01-02   ┆ 2023-01-02   ┆ 2023-01-05  │\n",
       "│ 942          ┆ LURIGANCHO - ┆              ┆         ┆              ┆              ┆             │\n",
       "│              ┆ 191017       ┆              ┆         ┆              ┆              ┆             │\n",
       "│ WO0000004852 ┆ MARIANO      ┆ Zona Norte   ┆ Cerrado ┆ 2023-01-02   ┆ 2023-01-06   ┆ 2023-01-09  │\n",
       "│ 621          ┆ MELGAR -     ┆              ┆         ┆              ┆              ┆             │\n",
       "│              ┆ 215014       ┆              ┆         ┆              ┆              ┆             │\n",
       "│ SA0000004853 ┆ ANDAHUAYLAS  ┆ Zona Norte   ┆ Cerrado ┆ 2023-01-02   ┆ 2023-01-07   ┆ 2023-01-10  │\n",
       "│ 328          ┆ - 205000     ┆              ┆         ┆              ┆              ┆             │\n",
       "│ SA0000004853 ┆ COLLIQUE -   ┆ Zona Centro  ┆ Cerrado ┆ 2023-01-02   ┆ 2023-01-04   ┆ 2023-01-07  │\n",
       "│ 160          ┆ 191065       ┆              ┆         ┆              ┆              ┆             │\n",
       "│ SA0000004853 ┆ COLLIQUE -   ┆ Zona Centro  ┆ Cerrado ┆ 2023-01-02   ┆ 2023-01-06   ┆ 2023-01-09  │\n",
       "│ 158          ┆ 191065       ┆              ┆         ┆              ┆              ┆             │\n",
       "│ SA0000004853 ┆ COLLIQUE -   ┆ Zona Centro  ┆ Cerrado ┆ 2023-01-02   ┆ 2023-01-04   ┆ 2023-01-07  │\n",
       "│ 157          ┆ 191065       ┆              ┆         ┆              ┆              ┆             │\n",
       "│ SA0000004853 ┆ COLLIQUE -   ┆ Zona Centro  ┆ Cerrado ┆ 2023-01-02   ┆ 2023-01-15   ┆ 2023-01-18  │\n",
       "│ 156          ┆ 191065       ┆              ┆         ┆              ┆              ┆             │\n",
       "│ WO0000004853 ┆ ANDAHUAYLAS  ┆ Zona Norte   ┆ Cerrado ┆ 2023-01-02   ┆ 2023-01-07   ┆ 2023-01-10  │\n",
       "│ 328          ┆ - 205000     ┆              ┆         ┆              ┆              ┆             │\n",
       "│ WO0000004853 ┆ COLLIQUE -   ┆ Zona Centro  ┆ Cerrado ┆ 2023-01-02   ┆ 2023-01-04   ┆ 2023-01-07  │\n",
       "│ 160          ┆ 191065       ┆              ┆         ┆              ┆              ┆             │\n",
       "└──────────────┴──────────────┴──────────────┴─────────┴──────────────┴──────────────┴─────────────┘"
      ]
     },
     "execution_count": 36,
     "metadata": {},
     "output_type": "execute_result"
    }
   ],
   "source": [
    "actual = pl.read_csv(\n",
    "    source='./Tickets/Tickets Actual.csv', \n",
    "    separator='|', \n",
    "    columns=['Numero Ticket','Ubicacion','Service Desk','Estado','Fecha Creacion','Fecha Termino','Fecha Cierre'],\n",
    "    try_parse_dates= True,\n",
    "    ignore_errors= True\n",
    ").rename(\n",
    "    {'Numero Ticket': 'TicketID'}\n",
    ")\n",
    "\n",
    "actual.head(10)"
   ]
  },
  {
   "cell_type": "code",
   "execution_count": 37,
   "metadata": {},
   "outputs": [
    {
     "data": {
      "text/html": [
       "<div><style>\n",
       ".dataframe > thead > tr,\n",
       ".dataframe > tbody > tr {\n",
       "  text-align: right;\n",
       "  white-space: pre-wrap;\n",
       "}\n",
       "</style>\n",
       "<small>shape: (10, 7)</small><table border=\"1\" class=\"dataframe\"><thead><tr><th>TicketID</th><th>Ubicacion</th><th>Service Desk</th><th>Estado</th><th>Fecha Creacion</th><th>Fecha Termino</th><th>Fecha Cierre</th></tr><tr><td>str</td><td>str</td><td>str</td><td>str</td><td>date</td><td>date</td><td>date</td></tr></thead><tbody><tr><td>&quot;WO0000004853311&quot;</td><td>&quot;TUPAC AMARU - 191038&quot;</td><td>&quot;Zona Centro&quot;</td><td>&quot;Cerrado&quot;</td><td>2023-01-02</td><td>2023-01-10</td><td>2023-01-13</td></tr><tr><td>&quot;WO0000004852942&quot;</td><td>&quot;SAN JUAN DE LURIGANCHO - 191017&quot;</td><td>&quot;Zona Centro&quot;</td><td>&quot;Cerrado&quot;</td><td>2023-01-02</td><td>2023-01-02</td><td>2023-01-05</td></tr><tr><td>&quot;WO0000004852621&quot;</td><td>&quot;MARIANO MELGAR - 215014&quot;</td><td>&quot;Zona Norte&quot;</td><td>&quot;Cerrado&quot;</td><td>2023-01-02</td><td>2023-01-06</td><td>2023-01-09</td></tr><tr><td>&quot;WO0000004853328&quot;</td><td>&quot;ANDAHUAYLAS - 205000&quot;</td><td>&quot;Zona Norte&quot;</td><td>&quot;Cerrado&quot;</td><td>2023-01-02</td><td>2023-01-07</td><td>2023-01-10</td></tr><tr><td>&quot;WO0000004853160&quot;</td><td>&quot;COLLIQUE - 191065&quot;</td><td>&quot;Zona Centro&quot;</td><td>&quot;Cerrado&quot;</td><td>2023-01-02</td><td>2023-01-04</td><td>2023-01-07</td></tr><tr><td>&quot;WO0000004853158&quot;</td><td>&quot;COLLIQUE - 191065&quot;</td><td>&quot;Zona Centro&quot;</td><td>&quot;Cerrado&quot;</td><td>2023-01-02</td><td>2023-01-06</td><td>2023-01-09</td></tr><tr><td>&quot;WO0000004853157&quot;</td><td>&quot;COLLIQUE - 191065&quot;</td><td>&quot;Zona Centro&quot;</td><td>&quot;Cerrado&quot;</td><td>2023-01-02</td><td>2023-01-04</td><td>2023-01-07</td></tr><tr><td>&quot;WO0000004853156&quot;</td><td>&quot;COLLIQUE - 191065&quot;</td><td>&quot;Zona Centro&quot;</td><td>&quot;Cerrado&quot;</td><td>2023-01-02</td><td>2023-01-15</td><td>2023-01-18</td></tr><tr><td>&quot;WO0000004854678&quot;</td><td>&quot;MEGA PLAZA - 191010&quot;</td><td>&quot;Zona Centro&quot;</td><td>&quot;Cerrado&quot;</td><td>2023-01-02</td><td>2023-01-14</td><td>2023-01-17</td></tr><tr><td>&quot;WO0000004853613&quot;</td><td>&quot;PROCERES - 191120&quot;</td><td>&quot;Zona Centro&quot;</td><td>&quot;Cerrado&quot;</td><td>2023-01-02</td><td>2023-01-07</td><td>2023-01-10</td></tr></tbody></table></div>"
      ],
      "text/plain": [
       "shape: (10, 7)\n",
       "┌──────────────┬──────────────┬──────────────┬─────────┬──────────────┬──────────────┬─────────────┐\n",
       "│ TicketID     ┆ Ubicacion    ┆ Service Desk ┆ Estado  ┆ Fecha        ┆ Fecha        ┆ Fecha       │\n",
       "│ ---          ┆ ---          ┆ ---          ┆ ---     ┆ Creacion     ┆ Termino      ┆ Cierre      │\n",
       "│ str          ┆ str          ┆ str          ┆ str     ┆ ---          ┆ ---          ┆ ---         │\n",
       "│              ┆              ┆              ┆         ┆ date         ┆ date         ┆ date        │\n",
       "╞══════════════╪══════════════╪══════════════╪═════════╪══════════════╪══════════════╪═════════════╡\n",
       "│ WO0000004853 ┆ TUPAC AMARU  ┆ Zona Centro  ┆ Cerrado ┆ 2023-01-02   ┆ 2023-01-10   ┆ 2023-01-13  │\n",
       "│ 311          ┆ - 191038     ┆              ┆         ┆              ┆              ┆             │\n",
       "│ WO0000004852 ┆ SAN JUAN DE  ┆ Zona Centro  ┆ Cerrado ┆ 2023-01-02   ┆ 2023-01-02   ┆ 2023-01-05  │\n",
       "│ 942          ┆ LURIGANCHO - ┆              ┆         ┆              ┆              ┆             │\n",
       "│              ┆ 191017       ┆              ┆         ┆              ┆              ┆             │\n",
       "│ WO0000004852 ┆ MARIANO      ┆ Zona Norte   ┆ Cerrado ┆ 2023-01-02   ┆ 2023-01-06   ┆ 2023-01-09  │\n",
       "│ 621          ┆ MELGAR -     ┆              ┆         ┆              ┆              ┆             │\n",
       "│              ┆ 215014       ┆              ┆         ┆              ┆              ┆             │\n",
       "│ WO0000004853 ┆ ANDAHUAYLAS  ┆ Zona Norte   ┆ Cerrado ┆ 2023-01-02   ┆ 2023-01-07   ┆ 2023-01-10  │\n",
       "│ 328          ┆ - 205000     ┆              ┆         ┆              ┆              ┆             │\n",
       "│ WO0000004853 ┆ COLLIQUE -   ┆ Zona Centro  ┆ Cerrado ┆ 2023-01-02   ┆ 2023-01-04   ┆ 2023-01-07  │\n",
       "│ 160          ┆ 191065       ┆              ┆         ┆              ┆              ┆             │\n",
       "│ WO0000004853 ┆ COLLIQUE -   ┆ Zona Centro  ┆ Cerrado ┆ 2023-01-02   ┆ 2023-01-06   ┆ 2023-01-09  │\n",
       "│ 158          ┆ 191065       ┆              ┆         ┆              ┆              ┆             │\n",
       "│ WO0000004853 ┆ COLLIQUE -   ┆ Zona Centro  ┆ Cerrado ┆ 2023-01-02   ┆ 2023-01-04   ┆ 2023-01-07  │\n",
       "│ 157          ┆ 191065       ┆              ┆         ┆              ┆              ┆             │\n",
       "│ WO0000004853 ┆ COLLIQUE -   ┆ Zona Centro  ┆ Cerrado ┆ 2023-01-02   ┆ 2023-01-15   ┆ 2023-01-18  │\n",
       "│ 156          ┆ 191065       ┆              ┆         ┆              ┆              ┆             │\n",
       "│ WO0000004854 ┆ MEGA PLAZA - ┆ Zona Centro  ┆ Cerrado ┆ 2023-01-02   ┆ 2023-01-14   ┆ 2023-01-17  │\n",
       "│ 678          ┆ 191010       ┆              ┆         ┆              ┆              ┆             │\n",
       "│ WO0000004853 ┆ PROCERES -   ┆ Zona Centro  ┆ Cerrado ┆ 2023-01-02   ┆ 2023-01-07   ┆ 2023-01-10  │\n",
       "│ 613          ┆ 191120       ┆              ┆         ┆              ┆              ┆             │\n",
       "└──────────────┴──────────────┴──────────────┴─────────┴──────────────┴──────────────┴─────────────┘"
      ]
     },
     "execution_count": 37,
     "metadata": {},
     "output_type": "execute_result"
    }
   ],
   "source": [
    "actual = actual.filter(\n",
    "    pl.col('TicketID').str.starts_with('WO')\n",
    ")\n",
    "\n",
    "actual.head(10)"
   ]
  },
  {
   "cell_type": "code",
   "execution_count": 38,
   "metadata": {},
   "outputs": [
    {
     "data": {
      "text/html": [
       "<div><style>\n",
       ".dataframe > thead > tr,\n",
       ".dataframe > tbody > tr {\n",
       "  text-align: right;\n",
       "  white-space: pre-wrap;\n",
       "}\n",
       "</style>\n",
       "<small>shape: (10, 7)</small><table border=\"1\" class=\"dataframe\"><thead><tr><th>TicketID</th><th>Ubicacion</th><th>Service Desk</th><th>Estado</th><th>Fecha Creacion</th><th>Fecha Termino</th><th>Fecha Cierre</th></tr><tr><td>str</td><td>str</td><td>str</td><td>str</td><td>date</td><td>date</td><td>date</td></tr></thead><tbody><tr><td>&quot;WO0000004122687&quot;</td><td>&quot;AREQUIPA - 215000&quot;</td><td>&quot;Zona Norte&quot;</td><td>&quot;Cerrado&quot;</td><td>2022-06-01</td><td>2022-06-14</td><td>2022-06-14</td></tr><tr><td>&quot;WO0000004122649&quot;</td><td>&quot;METRO AV. WIESSE - 191106&quot;</td><td>&quot;Zona Centro&quot;</td><td>&quot;Cerrado&quot;</td><td>2022-06-01</td><td>2022-06-17</td><td>2022-06-17</td></tr><tr><td>&quot;WO0000004122502&quot;</td><td>&quot;NICOLAS AYLLON - 191027&quot;</td><td>&quot;Zona Centro&quot;</td><td>&quot;Cerrado&quot;</td><td>2022-06-01</td><td>2022-06-08</td><td>2022-06-08</td></tr><tr><td>&quot;WO0000004122513&quot;</td><td>&quot;JAUREGUI - 405005&quot;</td><td>&quot;Zona Norte&quot;</td><td>&quot;Cerrado&quot;</td><td>2022-06-01</td><td>2022-06-18</td><td>2022-06-18</td></tr><tr><td>&quot;WO0000004122741&quot;</td><td>&quot;CANTO GRANDE - 191096&quot;</td><td>&quot;Zona Centro&quot;</td><td>&quot;Cerrado&quot;</td><td>2022-06-01</td><td>2022-06-08</td><td>2022-06-08</td></tr><tr><td>&quot;WO0000004122511&quot;</td><td>&quot;CHIMPU OCLLO - 191113&quot;</td><td>&quot;Zona Centro&quot;</td><td>&quot;Cerrado&quot;</td><td>2022-06-01</td><td>2022-06-03</td><td>2022-06-03</td></tr><tr><td>&quot;WO0000004122522&quot;</td><td>&quot;MINI AGENCIA BCP SALAMANCA - 191090&quot;</td><td>&quot;Zona Centro&quot;</td><td>&quot;Cerrado&quot;</td><td>2022-06-01</td><td>2022-06-07</td><td>2022-06-07</td></tr><tr><td>&quot;WO0000004122302&quot;</td><td>&quot;IMPERIAL - 255001&quot;</td><td>&quot;Zona Norte&quot;</td><td>&quot;Cerrado&quot;</td><td>2022-06-01</td><td>2022-06-10</td><td>2022-06-10</td></tr><tr><td>&quot;WO0000004122360&quot;</td><td>&quot;AREQUIPA - 215000&quot;</td><td>&quot;Zona Norte&quot;</td><td>&quot;Cerrado&quot;</td><td>2022-06-01</td><td>2022-06-13</td><td>2022-06-13</td></tr><tr><td>&quot;WO0000004122688&quot;</td><td>&quot;AREQUIPA - 215000&quot;</td><td>&quot;Zona Norte&quot;</td><td>&quot;Cerrado&quot;</td><td>2022-06-01</td><td>2022-06-17</td><td>2022-06-17</td></tr></tbody></table></div>"
      ],
      "text/plain": [
       "shape: (10, 7)\n",
       "┌──────────────┬──────────────┬──────────────┬─────────┬──────────────┬──────────────┬─────────────┐\n",
       "│ TicketID     ┆ Ubicacion    ┆ Service Desk ┆ Estado  ┆ Fecha        ┆ Fecha        ┆ Fecha       │\n",
       "│ ---          ┆ ---          ┆ ---          ┆ ---     ┆ Creacion     ┆ Termino      ┆ Cierre      │\n",
       "│ str          ┆ str          ┆ str          ┆ str     ┆ ---          ┆ ---          ┆ ---         │\n",
       "│              ┆              ┆              ┆         ┆ date         ┆ date         ┆ date        │\n",
       "╞══════════════╪══════════════╪══════════════╪═════════╪══════════════╪══════════════╪═════════════╡\n",
       "│ WO0000004122 ┆ AREQUIPA -   ┆ Zona Norte   ┆ Cerrado ┆ 2022-06-01   ┆ 2022-06-14   ┆ 2022-06-14  │\n",
       "│ 687          ┆ 215000       ┆              ┆         ┆              ┆              ┆             │\n",
       "│ WO0000004122 ┆ METRO AV.    ┆ Zona Centro  ┆ Cerrado ┆ 2022-06-01   ┆ 2022-06-17   ┆ 2022-06-17  │\n",
       "│ 649          ┆ WIESSE -     ┆              ┆         ┆              ┆              ┆             │\n",
       "│              ┆ 191106       ┆              ┆         ┆              ┆              ┆             │\n",
       "│ WO0000004122 ┆ NICOLAS      ┆ Zona Centro  ┆ Cerrado ┆ 2022-06-01   ┆ 2022-06-08   ┆ 2022-06-08  │\n",
       "│ 502          ┆ AYLLON -     ┆              ┆         ┆              ┆              ┆             │\n",
       "│              ┆ 191027       ┆              ┆         ┆              ┆              ┆             │\n",
       "│ WO0000004122 ┆ JAUREGUI -   ┆ Zona Norte   ┆ Cerrado ┆ 2022-06-01   ┆ 2022-06-18   ┆ 2022-06-18  │\n",
       "│ 513          ┆ 405005       ┆              ┆         ┆              ┆              ┆             │\n",
       "│ WO0000004122 ┆ CANTO GRANDE ┆ Zona Centro  ┆ Cerrado ┆ 2022-06-01   ┆ 2022-06-08   ┆ 2022-06-08  │\n",
       "│ 741          ┆ - 191096     ┆              ┆         ┆              ┆              ┆             │\n",
       "│ WO0000004122 ┆ CHIMPU OCLLO ┆ Zona Centro  ┆ Cerrado ┆ 2022-06-01   ┆ 2022-06-03   ┆ 2022-06-03  │\n",
       "│ 511          ┆ - 191113     ┆              ┆         ┆              ┆              ┆             │\n",
       "│ WO0000004122 ┆ MINI AGENCIA ┆ Zona Centro  ┆ Cerrado ┆ 2022-06-01   ┆ 2022-06-07   ┆ 2022-06-07  │\n",
       "│ 522          ┆ BCP          ┆              ┆         ┆              ┆              ┆             │\n",
       "│              ┆ SALAMANCA -  ┆              ┆         ┆              ┆              ┆             │\n",
       "│              ┆ 191090       ┆              ┆         ┆              ┆              ┆             │\n",
       "│ WO0000004122 ┆ IMPERIAL -   ┆ Zona Norte   ┆ Cerrado ┆ 2022-06-01   ┆ 2022-06-10   ┆ 2022-06-10  │\n",
       "│ 302          ┆ 255001       ┆              ┆         ┆              ┆              ┆             │\n",
       "│ WO0000004122 ┆ AREQUIPA -   ┆ Zona Norte   ┆ Cerrado ┆ 2022-06-01   ┆ 2022-06-13   ┆ 2022-06-13  │\n",
       "│ 360          ┆ 215000       ┆              ┆         ┆              ┆              ┆             │\n",
       "│ WO0000004122 ┆ AREQUIPA -   ┆ Zona Norte   ┆ Cerrado ┆ 2022-06-01   ┆ 2022-06-17   ┆ 2022-06-17  │\n",
       "│ 688          ┆ 215000       ┆              ┆         ┆              ┆              ┆             │\n",
       "└──────────────┴──────────────┴──────────────┴─────────┴──────────────┴──────────────┴─────────────┘"
      ]
     },
     "execution_count": 38,
     "metadata": {},
     "output_type": "execute_result"
    }
   ],
   "source": [
    "Tickets = pl.concat( [historico, actual] )\n",
    "\n",
    "Tickets.head(10)"
   ]
  },
  {
   "cell_type": "code",
   "execution_count": 39,
   "metadata": {},
   "outputs": [],
   "source": [
    "Tickets = Tickets.with_columns(\n",
    "    pl.col('Ubicacion')\n",
    "    .str.split_exact(' - ',1)\n",
    "    .struct.rename_fields(['Agencia','AgenciaID'])\n",
    ").unnest('Ubicacion')"
   ]
  },
  {
   "cell_type": "code",
   "execution_count": 40,
   "metadata": {},
   "outputs": [
    {
     "data": {
      "text/html": [
       "<div><style>\n",
       ".dataframe > thead > tr,\n",
       ".dataframe > tbody > tr {\n",
       "  text-align: right;\n",
       "  white-space: pre-wrap;\n",
       "}\n",
       "</style>\n",
       "<small>shape: (10, 8)</small><table border=\"1\" class=\"dataframe\"><thead><tr><th>TicketID</th><th>Agencia</th><th>AgenciaID</th><th>Service Desk</th><th>Estado</th><th>Fecha Creacion</th><th>Fecha Termino</th><th>Fecha Cierre</th></tr><tr><td>str</td><td>str</td><td>str</td><td>str</td><td>str</td><td>date</td><td>date</td><td>date</td></tr></thead><tbody><tr><td>&quot;WO0000004122687&quot;</td><td>&quot;AREQUIPA&quot;</td><td>&quot;215000&quot;</td><td>&quot;Zona Norte&quot;</td><td>&quot;Cerrado&quot;</td><td>2022-06-01</td><td>2022-06-14</td><td>2022-06-14</td></tr><tr><td>&quot;WO0000004122649&quot;</td><td>&quot;METRO AV. WIESSE&quot;</td><td>&quot;191106&quot;</td><td>&quot;Zona Centro&quot;</td><td>&quot;Cerrado&quot;</td><td>2022-06-01</td><td>2022-06-17</td><td>2022-06-17</td></tr><tr><td>&quot;WO0000004122502&quot;</td><td>&quot;NICOLAS AYLLON&quot;</td><td>&quot;191027&quot;</td><td>&quot;Zona Centro&quot;</td><td>&quot;Cerrado&quot;</td><td>2022-06-01</td><td>2022-06-08</td><td>2022-06-08</td></tr><tr><td>&quot;WO0000004122513&quot;</td><td>&quot;JAUREGUI&quot;</td><td>&quot;405005&quot;</td><td>&quot;Zona Norte&quot;</td><td>&quot;Cerrado&quot;</td><td>2022-06-01</td><td>2022-06-18</td><td>2022-06-18</td></tr><tr><td>&quot;WO0000004122741&quot;</td><td>&quot;CANTO GRANDE&quot;</td><td>&quot;191096&quot;</td><td>&quot;Zona Centro&quot;</td><td>&quot;Cerrado&quot;</td><td>2022-06-01</td><td>2022-06-08</td><td>2022-06-08</td></tr><tr><td>&quot;WO0000004122511&quot;</td><td>&quot;CHIMPU OCLLO&quot;</td><td>&quot;191113&quot;</td><td>&quot;Zona Centro&quot;</td><td>&quot;Cerrado&quot;</td><td>2022-06-01</td><td>2022-06-03</td><td>2022-06-03</td></tr><tr><td>&quot;WO0000004122522&quot;</td><td>&quot;MINI AGENCIA BCP SALAMANCA&quot;</td><td>&quot;191090&quot;</td><td>&quot;Zona Centro&quot;</td><td>&quot;Cerrado&quot;</td><td>2022-06-01</td><td>2022-06-07</td><td>2022-06-07</td></tr><tr><td>&quot;WO0000004122302&quot;</td><td>&quot;IMPERIAL&quot;</td><td>&quot;255001&quot;</td><td>&quot;Zona Norte&quot;</td><td>&quot;Cerrado&quot;</td><td>2022-06-01</td><td>2022-06-10</td><td>2022-06-10</td></tr><tr><td>&quot;WO0000004122360&quot;</td><td>&quot;AREQUIPA&quot;</td><td>&quot;215000&quot;</td><td>&quot;Zona Norte&quot;</td><td>&quot;Cerrado&quot;</td><td>2022-06-01</td><td>2022-06-13</td><td>2022-06-13</td></tr><tr><td>&quot;WO0000004122688&quot;</td><td>&quot;AREQUIPA&quot;</td><td>&quot;215000&quot;</td><td>&quot;Zona Norte&quot;</td><td>&quot;Cerrado&quot;</td><td>2022-06-01</td><td>2022-06-17</td><td>2022-06-17</td></tr></tbody></table></div>"
      ],
      "text/plain": [
       "shape: (10, 8)\n",
       "┌────────────┬────────────┬───────────┬────────────┬─────────┬────────────┬────────────┬───────────┐\n",
       "│ TicketID   ┆ Agencia    ┆ AgenciaID ┆ Service    ┆ Estado  ┆ Fecha      ┆ Fecha      ┆ Fecha     │\n",
       "│ ---        ┆ ---        ┆ ---       ┆ Desk       ┆ ---     ┆ Creacion   ┆ Termino    ┆ Cierre    │\n",
       "│ str        ┆ str        ┆ str       ┆ ---        ┆ str     ┆ ---        ┆ ---        ┆ ---       │\n",
       "│            ┆            ┆           ┆ str        ┆         ┆ date       ┆ date       ┆ date      │\n",
       "╞════════════╪════════════╪═══════════╪════════════╪═════════╪════════════╪════════════╪═══════════╡\n",
       "│ WO00000041 ┆ AREQUIPA   ┆ 215000    ┆ Zona Norte ┆ Cerrado ┆ 2022-06-01 ┆ 2022-06-14 ┆ 2022-06-1 │\n",
       "│ 22687      ┆            ┆           ┆            ┆         ┆            ┆            ┆ 4         │\n",
       "│ WO00000041 ┆ METRO AV.  ┆ 191106    ┆ Zona       ┆ Cerrado ┆ 2022-06-01 ┆ 2022-06-17 ┆ 2022-06-1 │\n",
       "│ 22649      ┆ WIESSE     ┆           ┆ Centro     ┆         ┆            ┆            ┆ 7         │\n",
       "│ WO00000041 ┆ NICOLAS    ┆ 191027    ┆ Zona       ┆ Cerrado ┆ 2022-06-01 ┆ 2022-06-08 ┆ 2022-06-0 │\n",
       "│ 22502      ┆ AYLLON     ┆           ┆ Centro     ┆         ┆            ┆            ┆ 8         │\n",
       "│ WO00000041 ┆ JAUREGUI   ┆ 405005    ┆ Zona Norte ┆ Cerrado ┆ 2022-06-01 ┆ 2022-06-18 ┆ 2022-06-1 │\n",
       "│ 22513      ┆            ┆           ┆            ┆         ┆            ┆            ┆ 8         │\n",
       "│ WO00000041 ┆ CANTO      ┆ 191096    ┆ Zona       ┆ Cerrado ┆ 2022-06-01 ┆ 2022-06-08 ┆ 2022-06-0 │\n",
       "│ 22741      ┆ GRANDE     ┆           ┆ Centro     ┆         ┆            ┆            ┆ 8         │\n",
       "│ WO00000041 ┆ CHIMPU     ┆ 191113    ┆ Zona       ┆ Cerrado ┆ 2022-06-01 ┆ 2022-06-03 ┆ 2022-06-0 │\n",
       "│ 22511      ┆ OCLLO      ┆           ┆ Centro     ┆         ┆            ┆            ┆ 3         │\n",
       "│ WO00000041 ┆ MINI       ┆ 191090    ┆ Zona       ┆ Cerrado ┆ 2022-06-01 ┆ 2022-06-07 ┆ 2022-06-0 │\n",
       "│ 22522      ┆ AGENCIA    ┆           ┆ Centro     ┆         ┆            ┆            ┆ 7         │\n",
       "│            ┆ BCP        ┆           ┆            ┆         ┆            ┆            ┆           │\n",
       "│            ┆ SALAMANCA  ┆           ┆            ┆         ┆            ┆            ┆           │\n",
       "│ WO00000041 ┆ IMPERIAL   ┆ 255001    ┆ Zona Norte ┆ Cerrado ┆ 2022-06-01 ┆ 2022-06-10 ┆ 2022-06-1 │\n",
       "│ 22302      ┆            ┆           ┆            ┆         ┆            ┆            ┆ 0         │\n",
       "│ WO00000041 ┆ AREQUIPA   ┆ 215000    ┆ Zona Norte ┆ Cerrado ┆ 2022-06-01 ┆ 2022-06-13 ┆ 2022-06-1 │\n",
       "│ 22360      ┆            ┆           ┆            ┆         ┆            ┆            ┆ 3         │\n",
       "│ WO00000041 ┆ AREQUIPA   ┆ 215000    ┆ Zona Norte ┆ Cerrado ┆ 2022-06-01 ┆ 2022-06-17 ┆ 2022-06-1 │\n",
       "│ 22688      ┆            ┆           ┆            ┆         ┆            ┆            ┆ 7         │\n",
       "└────────────┴────────────┴───────────┴────────────┴─────────┴────────────┴────────────┴───────────┘"
      ]
     },
     "execution_count": 40,
     "metadata": {},
     "output_type": "execute_result"
    }
   ],
   "source": [
    "Tickets.head(10)"
   ]
  },
  {
   "cell_type": "code",
   "execution_count": 41,
   "metadata": {},
   "outputs": [
    {
     "data": {
      "text/html": [
       "<div><style>\n",
       ".dataframe > thead > tr,\n",
       ".dataframe > tbody > tr {\n",
       "  text-align: right;\n",
       "  white-space: pre-wrap;\n",
       "}\n",
       "</style>\n",
       "<small>shape: (10, 8)</small><table border=\"1\" class=\"dataframe\"><thead><tr><th>TicketID</th><th>Agencia</th><th>AgenciaID</th><th>Service Desk</th><th>Estado</th><th>Fecha Creacion</th><th>Fecha Termino</th><th>Fecha Cierre</th></tr><tr><td>str</td><td>str</td><td>i64</td><td>str</td><td>str</td><td>date</td><td>date</td><td>date</td></tr></thead><tbody><tr><td>&quot;WO0000004122687&quot;</td><td>&quot;AREQUIPA&quot;</td><td>215000</td><td>&quot;Zona Norte&quot;</td><td>&quot;Cerrado&quot;</td><td>2022-06-01</td><td>2022-06-14</td><td>2022-06-14</td></tr><tr><td>&quot;WO0000004122649&quot;</td><td>&quot;METRO AV. WIESSE&quot;</td><td>191106</td><td>&quot;Zona Centro&quot;</td><td>&quot;Cerrado&quot;</td><td>2022-06-01</td><td>2022-06-17</td><td>2022-06-17</td></tr><tr><td>&quot;WO0000004122502&quot;</td><td>&quot;NICOLAS AYLLON&quot;</td><td>191027</td><td>&quot;Zona Centro&quot;</td><td>&quot;Cerrado&quot;</td><td>2022-06-01</td><td>2022-06-08</td><td>2022-06-08</td></tr><tr><td>&quot;WO0000004122513&quot;</td><td>&quot;JAUREGUI&quot;</td><td>405005</td><td>&quot;Zona Norte&quot;</td><td>&quot;Cerrado&quot;</td><td>2022-06-01</td><td>2022-06-18</td><td>2022-06-18</td></tr><tr><td>&quot;WO0000004122741&quot;</td><td>&quot;CANTO GRANDE&quot;</td><td>191096</td><td>&quot;Zona Centro&quot;</td><td>&quot;Cerrado&quot;</td><td>2022-06-01</td><td>2022-06-08</td><td>2022-06-08</td></tr><tr><td>&quot;WO0000004122511&quot;</td><td>&quot;CHIMPU OCLLO&quot;</td><td>191113</td><td>&quot;Zona Centro&quot;</td><td>&quot;Cerrado&quot;</td><td>2022-06-01</td><td>2022-06-03</td><td>2022-06-03</td></tr><tr><td>&quot;WO0000004122522&quot;</td><td>&quot;MINI AGENCIA BCP SALAMANCA&quot;</td><td>191090</td><td>&quot;Zona Centro&quot;</td><td>&quot;Cerrado&quot;</td><td>2022-06-01</td><td>2022-06-07</td><td>2022-06-07</td></tr><tr><td>&quot;WO0000004122302&quot;</td><td>&quot;IMPERIAL&quot;</td><td>255001</td><td>&quot;Zona Norte&quot;</td><td>&quot;Cerrado&quot;</td><td>2022-06-01</td><td>2022-06-10</td><td>2022-06-10</td></tr><tr><td>&quot;WO0000004122360&quot;</td><td>&quot;AREQUIPA&quot;</td><td>215000</td><td>&quot;Zona Norte&quot;</td><td>&quot;Cerrado&quot;</td><td>2022-06-01</td><td>2022-06-13</td><td>2022-06-13</td></tr><tr><td>&quot;WO0000004122688&quot;</td><td>&quot;AREQUIPA&quot;</td><td>215000</td><td>&quot;Zona Norte&quot;</td><td>&quot;Cerrado&quot;</td><td>2022-06-01</td><td>2022-06-17</td><td>2022-06-17</td></tr></tbody></table></div>"
      ],
      "text/plain": [
       "shape: (10, 8)\n",
       "┌────────────┬────────────┬───────────┬────────────┬─────────┬────────────┬────────────┬───────────┐\n",
       "│ TicketID   ┆ Agencia    ┆ AgenciaID ┆ Service    ┆ Estado  ┆ Fecha      ┆ Fecha      ┆ Fecha     │\n",
       "│ ---        ┆ ---        ┆ ---       ┆ Desk       ┆ ---     ┆ Creacion   ┆ Termino    ┆ Cierre    │\n",
       "│ str        ┆ str        ┆ i64       ┆ ---        ┆ str     ┆ ---        ┆ ---        ┆ ---       │\n",
       "│            ┆            ┆           ┆ str        ┆         ┆ date       ┆ date       ┆ date      │\n",
       "╞════════════╪════════════╪═══════════╪════════════╪═════════╪════════════╪════════════╪═══════════╡\n",
       "│ WO00000041 ┆ AREQUIPA   ┆ 215000    ┆ Zona Norte ┆ Cerrado ┆ 2022-06-01 ┆ 2022-06-14 ┆ 2022-06-1 │\n",
       "│ 22687      ┆            ┆           ┆            ┆         ┆            ┆            ┆ 4         │\n",
       "│ WO00000041 ┆ METRO AV.  ┆ 191106    ┆ Zona       ┆ Cerrado ┆ 2022-06-01 ┆ 2022-06-17 ┆ 2022-06-1 │\n",
       "│ 22649      ┆ WIESSE     ┆           ┆ Centro     ┆         ┆            ┆            ┆ 7         │\n",
       "│ WO00000041 ┆ NICOLAS    ┆ 191027    ┆ Zona       ┆ Cerrado ┆ 2022-06-01 ┆ 2022-06-08 ┆ 2022-06-0 │\n",
       "│ 22502      ┆ AYLLON     ┆           ┆ Centro     ┆         ┆            ┆            ┆ 8         │\n",
       "│ WO00000041 ┆ JAUREGUI   ┆ 405005    ┆ Zona Norte ┆ Cerrado ┆ 2022-06-01 ┆ 2022-06-18 ┆ 2022-06-1 │\n",
       "│ 22513      ┆            ┆           ┆            ┆         ┆            ┆            ┆ 8         │\n",
       "│ WO00000041 ┆ CANTO      ┆ 191096    ┆ Zona       ┆ Cerrado ┆ 2022-06-01 ┆ 2022-06-08 ┆ 2022-06-0 │\n",
       "│ 22741      ┆ GRANDE     ┆           ┆ Centro     ┆         ┆            ┆            ┆ 8         │\n",
       "│ WO00000041 ┆ CHIMPU     ┆ 191113    ┆ Zona       ┆ Cerrado ┆ 2022-06-01 ┆ 2022-06-03 ┆ 2022-06-0 │\n",
       "│ 22511      ┆ OCLLO      ┆           ┆ Centro     ┆         ┆            ┆            ┆ 3         │\n",
       "│ WO00000041 ┆ MINI       ┆ 191090    ┆ Zona       ┆ Cerrado ┆ 2022-06-01 ┆ 2022-06-07 ┆ 2022-06-0 │\n",
       "│ 22522      ┆ AGENCIA    ┆           ┆ Centro     ┆         ┆            ┆            ┆ 7         │\n",
       "│            ┆ BCP        ┆           ┆            ┆         ┆            ┆            ┆           │\n",
       "│            ┆ SALAMANCA  ┆           ┆            ┆         ┆            ┆            ┆           │\n",
       "│ WO00000041 ┆ IMPERIAL   ┆ 255001    ┆ Zona Norte ┆ Cerrado ┆ 2022-06-01 ┆ 2022-06-10 ┆ 2022-06-1 │\n",
       "│ 22302      ┆            ┆           ┆            ┆         ┆            ┆            ┆ 0         │\n",
       "│ WO00000041 ┆ AREQUIPA   ┆ 215000    ┆ Zona Norte ┆ Cerrado ┆ 2022-06-01 ┆ 2022-06-13 ┆ 2022-06-1 │\n",
       "│ 22360      ┆            ┆           ┆            ┆         ┆            ┆            ┆ 3         │\n",
       "│ WO00000041 ┆ AREQUIPA   ┆ 215000    ┆ Zona Norte ┆ Cerrado ┆ 2022-06-01 ┆ 2022-06-17 ┆ 2022-06-1 │\n",
       "│ 22688      ┆            ┆           ┆            ┆         ┆            ┆            ┆ 7         │\n",
       "└────────────┴────────────┴───────────┴────────────┴─────────┴────────────┴────────────┴───────────┘"
      ]
     },
     "execution_count": 41,
     "metadata": {},
     "output_type": "execute_result"
    }
   ],
   "source": [
    "Tickets = Tickets.cast({'AgenciaID': pl.Int64})\n",
    "Tickets.head(10)"
   ]
  },
  {
   "cell_type": "code",
   "execution_count": 42,
   "metadata": {},
   "outputs": [
    {
     "data": {
      "text/html": [
       "<div><style>\n",
       ".dataframe > thead > tr,\n",
       ".dataframe > tbody > tr {\n",
       "  text-align: right;\n",
       "  white-space: pre-wrap;\n",
       "}\n",
       "</style>\n",
       "<small>shape: (10, 8)</small><table border=\"1\" class=\"dataframe\"><thead><tr><th>TicketID</th><th>Agencia</th><th>AgenciaID</th><th>Service Desk</th><th>Estado</th><th>Fecha Creacion</th><th>Fecha Termino</th><th>Fecha Cierre</th></tr><tr><td>str</td><td>str</td><td>i64</td><td>str</td><td>str</td><td>date</td><td>date</td><td>date</td></tr></thead><tbody><tr><td>&quot;OT0000004849379&quot;</td><td>&quot;NAYLAMP&quot;</td><td>191143</td><td>&quot;Zona Centro&quot;</td><td>&quot;Cerrado&quot;</td><td>2022-12-31</td><td>2023-01-25</td><td>2023-01-28</td></tr><tr><td>&quot;OT0000004849382&quot;</td><td>&quot;LOS DAMASCOS&quot;</td><td>193038</td><td>&quot;Zona Sur&quot;</td><td>&quot;Cerrado&quot;</td><td>2022-12-31</td><td>2023-01-04</td><td>2023-01-07</td></tr><tr><td>&quot;OT0000004849726&quot;</td><td>&quot;LUREN&quot;</td><td>380004</td><td>&quot;Zona Sur&quot;</td><td>&quot;Cerrado&quot;</td><td>2022-12-31</td><td>2023-01-02</td><td>2023-01-05</td></tr><tr><td>&quot;OT0000004849732&quot;</td><td>&quot;EL PINO&quot;</td><td>191087</td><td>&quot;Zona Centro&quot;</td><td>&quot;Cerrado&quot;</td><td>2022-12-31</td><td>2023-01-06</td><td>2023-01-09</td></tr><tr><td>&quot;SA0000004849307&quot;</td><td>&quot;TUSILAGOS&quot;</td><td>191108</td><td>&quot;Zona Centro&quot;</td><td>&quot;Rechazado&quot;</td><td>2022-12-31</td><td>null</td><td>null</td></tr><tr><td>&quot;WO0000004122302&quot;</td><td>&quot;IMPERIAL&quot;</td><td>255001</td><td>&quot;Zona Norte&quot;</td><td>&quot;Cerrado&quot;</td><td>2022-06-01</td><td>2022-06-10</td><td>2022-06-10</td></tr><tr><td>&quot;WO0000004122303&quot;</td><td>&quot;IMPERIAL&quot;</td><td>255001</td><td>&quot;Zona Norte&quot;</td><td>&quot;Cerrado&quot;</td><td>2022-06-01</td><td>2022-06-17</td><td>2022-06-17</td></tr><tr><td>&quot;WO0000004122353&quot;</td><td>&quot;PLAZA UNION&quot;</td><td>191062</td><td>&quot;Zona Centro&quot;</td><td>&quot;Cerrado&quot;</td><td>2022-06-01</td><td>2022-06-05</td><td>2022-06-05</td></tr><tr><td>&quot;WO0000004122360&quot;</td><td>&quot;AREQUIPA&quot;</td><td>215000</td><td>&quot;Zona Norte&quot;</td><td>&quot;Cerrado&quot;</td><td>2022-06-01</td><td>2022-06-13</td><td>2022-06-13</td></tr><tr><td>&quot;WO0000004122387&quot;</td><td>&quot;PLAZA LIMA NORTE&quot;</td><td>191058</td><td>&quot;Zona Centro&quot;</td><td>&quot;Rechazado&quot;</td><td>2022-06-01</td><td>2022-06-06</td><td>null</td></tr></tbody></table></div>"
      ],
      "text/plain": [
       "shape: (10, 8)\n",
       "┌────────────┬────────────┬───────────┬────────────┬───────────┬───────────┬───────────┬───────────┐\n",
       "│ TicketID   ┆ Agencia    ┆ AgenciaID ┆ Service    ┆ Estado    ┆ Fecha     ┆ Fecha     ┆ Fecha     │\n",
       "│ ---        ┆ ---        ┆ ---       ┆ Desk       ┆ ---       ┆ Creacion  ┆ Termino   ┆ Cierre    │\n",
       "│ str        ┆ str        ┆ i64       ┆ ---        ┆ str       ┆ ---       ┆ ---       ┆ ---       │\n",
       "│            ┆            ┆           ┆ str        ┆           ┆ date      ┆ date      ┆ date      │\n",
       "╞════════════╪════════════╪═══════════╪════════════╪═══════════╪═══════════╪═══════════╪═══════════╡\n",
       "│ OT00000048 ┆ NAYLAMP    ┆ 191143    ┆ Zona       ┆ Cerrado   ┆ 2022-12-3 ┆ 2023-01-2 ┆ 2023-01-2 │\n",
       "│ 49379      ┆            ┆           ┆ Centro     ┆           ┆ 1         ┆ 5         ┆ 8         │\n",
       "│ OT00000048 ┆ LOS        ┆ 193038    ┆ Zona Sur   ┆ Cerrado   ┆ 2022-12-3 ┆ 2023-01-0 ┆ 2023-01-0 │\n",
       "│ 49382      ┆ DAMASCOS   ┆           ┆            ┆           ┆ 1         ┆ 4         ┆ 7         │\n",
       "│ OT00000048 ┆ LUREN      ┆ 380004    ┆ Zona Sur   ┆ Cerrado   ┆ 2022-12-3 ┆ 2023-01-0 ┆ 2023-01-0 │\n",
       "│ 49726      ┆            ┆           ┆            ┆           ┆ 1         ┆ 2         ┆ 5         │\n",
       "│ OT00000048 ┆ EL PINO    ┆ 191087    ┆ Zona       ┆ Cerrado   ┆ 2022-12-3 ┆ 2023-01-0 ┆ 2023-01-0 │\n",
       "│ 49732      ┆            ┆           ┆ Centro     ┆           ┆ 1         ┆ 6         ┆ 9         │\n",
       "│ SA00000048 ┆ TUSILAGOS  ┆ 191108    ┆ Zona       ┆ Rechazado ┆ 2022-12-3 ┆ null      ┆ null      │\n",
       "│ 49307      ┆            ┆           ┆ Centro     ┆           ┆ 1         ┆           ┆           │\n",
       "│ WO00000041 ┆ IMPERIAL   ┆ 255001    ┆ Zona Norte ┆ Cerrado   ┆ 2022-06-0 ┆ 2022-06-1 ┆ 2022-06-1 │\n",
       "│ 22302      ┆            ┆           ┆            ┆           ┆ 1         ┆ 0         ┆ 0         │\n",
       "│ WO00000041 ┆ IMPERIAL   ┆ 255001    ┆ Zona Norte ┆ Cerrado   ┆ 2022-06-0 ┆ 2022-06-1 ┆ 2022-06-1 │\n",
       "│ 22303      ┆            ┆           ┆            ┆           ┆ 1         ┆ 7         ┆ 7         │\n",
       "│ WO00000041 ┆ PLAZA      ┆ 191062    ┆ Zona       ┆ Cerrado   ┆ 2022-06-0 ┆ 2022-06-0 ┆ 2022-06-0 │\n",
       "│ 22353      ┆ UNION      ┆           ┆ Centro     ┆           ┆ 1         ┆ 5         ┆ 5         │\n",
       "│ WO00000041 ┆ AREQUIPA   ┆ 215000    ┆ Zona Norte ┆ Cerrado   ┆ 2022-06-0 ┆ 2022-06-1 ┆ 2022-06-1 │\n",
       "│ 22360      ┆            ┆           ┆            ┆           ┆ 1         ┆ 3         ┆ 3         │\n",
       "│ WO00000041 ┆ PLAZA LIMA ┆ 191058    ┆ Zona       ┆ Rechazado ┆ 2022-06-0 ┆ 2022-06-0 ┆ null      │\n",
       "│ 22387      ┆ NORTE      ┆           ┆ Centro     ┆           ┆ 1         ┆ 6         ┆           │\n",
       "└────────────┴────────────┴───────────┴────────────┴───────────┴───────────┴───────────┴───────────┘"
      ]
     },
     "execution_count": 42,
     "metadata": {},
     "output_type": "execute_result"
    }
   ],
   "source": [
    "Tickets = Tickets.sort(\n",
    "    by=['TicketID','Fecha Creacion']\n",
    ").unique(\n",
    "    subset='TicketID',\n",
    "    keep='last',\n",
    "    maintain_order=True\n",
    ")\n",
    "\n",
    "Tickets.head(10)"
   ]
  },
  {
   "cell_type": "code",
   "execution_count": 43,
   "metadata": {},
   "outputs": [
    {
     "data": {
      "text/html": [
       "<div><style>\n",
       ".dataframe > thead > tr,\n",
       ".dataframe > tbody > tr {\n",
       "  text-align: right;\n",
       "  white-space: pre-wrap;\n",
       "}\n",
       "</style>\n",
       "<small>shape: (10, 9)</small><table border=\"1\" class=\"dataframe\"><thead><tr><th>TicketID</th><th>Agencia</th><th>AgenciaID</th><th>Service Desk</th><th>Estado</th><th>Fecha Creacion</th><th>Fecha Termino</th><th>Fecha Cierre</th><th>Fecha Real Fin</th></tr><tr><td>str</td><td>str</td><td>i64</td><td>str</td><td>str</td><td>date</td><td>date</td><td>date</td><td>date</td></tr></thead><tbody><tr><td>&quot;OT0000004849379&quot;</td><td>&quot;NAYLAMP&quot;</td><td>191143</td><td>&quot;Zona Centro&quot;</td><td>&quot;Cerrado&quot;</td><td>2022-12-31</td><td>2023-01-25</td><td>2023-01-28</td><td>2023-01-25</td></tr><tr><td>&quot;OT0000004849382&quot;</td><td>&quot;LOS DAMASCOS&quot;</td><td>193038</td><td>&quot;Zona Sur&quot;</td><td>&quot;Cerrado&quot;</td><td>2022-12-31</td><td>2023-01-04</td><td>2023-01-07</td><td>2023-01-04</td></tr><tr><td>&quot;OT0000004849726&quot;</td><td>&quot;LUREN&quot;</td><td>380004</td><td>&quot;Zona Sur&quot;</td><td>&quot;Cerrado&quot;</td><td>2022-12-31</td><td>2023-01-02</td><td>2023-01-05</td><td>2023-01-02</td></tr><tr><td>&quot;OT0000004849732&quot;</td><td>&quot;EL PINO&quot;</td><td>191087</td><td>&quot;Zona Centro&quot;</td><td>&quot;Cerrado&quot;</td><td>2022-12-31</td><td>2023-01-06</td><td>2023-01-09</td><td>2023-01-06</td></tr><tr><td>&quot;SA0000004849307&quot;</td><td>&quot;TUSILAGOS&quot;</td><td>191108</td><td>&quot;Zona Centro&quot;</td><td>&quot;Rechazado&quot;</td><td>2022-12-31</td><td>null</td><td>null</td><td>null</td></tr><tr><td>&quot;WO0000004122302&quot;</td><td>&quot;IMPERIAL&quot;</td><td>255001</td><td>&quot;Zona Norte&quot;</td><td>&quot;Cerrado&quot;</td><td>2022-06-01</td><td>2022-06-10</td><td>2022-06-10</td><td>2022-06-10</td></tr><tr><td>&quot;WO0000004122303&quot;</td><td>&quot;IMPERIAL&quot;</td><td>255001</td><td>&quot;Zona Norte&quot;</td><td>&quot;Cerrado&quot;</td><td>2022-06-01</td><td>2022-06-17</td><td>2022-06-17</td><td>2022-06-17</td></tr><tr><td>&quot;WO0000004122353&quot;</td><td>&quot;PLAZA UNION&quot;</td><td>191062</td><td>&quot;Zona Centro&quot;</td><td>&quot;Cerrado&quot;</td><td>2022-06-01</td><td>2022-06-05</td><td>2022-06-05</td><td>2022-06-05</td></tr><tr><td>&quot;WO0000004122360&quot;</td><td>&quot;AREQUIPA&quot;</td><td>215000</td><td>&quot;Zona Norte&quot;</td><td>&quot;Cerrado&quot;</td><td>2022-06-01</td><td>2022-06-13</td><td>2022-06-13</td><td>2022-06-13</td></tr><tr><td>&quot;WO0000004122387&quot;</td><td>&quot;PLAZA LIMA NORTE&quot;</td><td>191058</td><td>&quot;Zona Centro&quot;</td><td>&quot;Rechazado&quot;</td><td>2022-06-01</td><td>2022-06-06</td><td>null</td><td>2022-06-06</td></tr></tbody></table></div>"
      ],
      "text/plain": [
       "shape: (10, 9)\n",
       "┌───────────┬───────────┬───────────┬───────────┬───┬───────────┬───────────┬───────────┬──────────┐\n",
       "│ TicketID  ┆ Agencia   ┆ AgenciaID ┆ Service   ┆ … ┆ Fecha     ┆ Fecha     ┆ Fecha     ┆ Fecha    │\n",
       "│ ---       ┆ ---       ┆ ---       ┆ Desk      ┆   ┆ Creacion  ┆ Termino   ┆ Cierre    ┆ Real Fin │\n",
       "│ str       ┆ str       ┆ i64       ┆ ---       ┆   ┆ ---       ┆ ---       ┆ ---       ┆ ---      │\n",
       "│           ┆           ┆           ┆ str       ┆   ┆ date      ┆ date      ┆ date      ┆ date     │\n",
       "╞═══════════╪═══════════╪═══════════╪═══════════╪═══╪═══════════╪═══════════╪═══════════╪══════════╡\n",
       "│ OT0000004 ┆ NAYLAMP   ┆ 191143    ┆ Zona      ┆ … ┆ 2022-12-3 ┆ 2023-01-2 ┆ 2023-01-2 ┆ 2023-01- │\n",
       "│ 849379    ┆           ┆           ┆ Centro    ┆   ┆ 1         ┆ 5         ┆ 8         ┆ 25       │\n",
       "│ OT0000004 ┆ LOS       ┆ 193038    ┆ Zona Sur  ┆ … ┆ 2022-12-3 ┆ 2023-01-0 ┆ 2023-01-0 ┆ 2023-01- │\n",
       "│ 849382    ┆ DAMASCOS  ┆           ┆           ┆   ┆ 1         ┆ 4         ┆ 7         ┆ 04       │\n",
       "│ OT0000004 ┆ LUREN     ┆ 380004    ┆ Zona Sur  ┆ … ┆ 2022-12-3 ┆ 2023-01-0 ┆ 2023-01-0 ┆ 2023-01- │\n",
       "│ 849726    ┆           ┆           ┆           ┆   ┆ 1         ┆ 2         ┆ 5         ┆ 02       │\n",
       "│ OT0000004 ┆ EL PINO   ┆ 191087    ┆ Zona      ┆ … ┆ 2022-12-3 ┆ 2023-01-0 ┆ 2023-01-0 ┆ 2023-01- │\n",
       "│ 849732    ┆           ┆           ┆ Centro    ┆   ┆ 1         ┆ 6         ┆ 9         ┆ 06       │\n",
       "│ SA0000004 ┆ TUSILAGOS ┆ 191108    ┆ Zona      ┆ … ┆ 2022-12-3 ┆ null      ┆ null      ┆ null     │\n",
       "│ 849307    ┆           ┆           ┆ Centro    ┆   ┆ 1         ┆           ┆           ┆          │\n",
       "│ WO0000004 ┆ IMPERIAL  ┆ 255001    ┆ Zona      ┆ … ┆ 2022-06-0 ┆ 2022-06-1 ┆ 2022-06-1 ┆ 2022-06- │\n",
       "│ 122302    ┆           ┆           ┆ Norte     ┆   ┆ 1         ┆ 0         ┆ 0         ┆ 10       │\n",
       "│ WO0000004 ┆ IMPERIAL  ┆ 255001    ┆ Zona      ┆ … ┆ 2022-06-0 ┆ 2022-06-1 ┆ 2022-06-1 ┆ 2022-06- │\n",
       "│ 122303    ┆           ┆           ┆ Norte     ┆   ┆ 1         ┆ 7         ┆ 7         ┆ 17       │\n",
       "│ WO0000004 ┆ PLAZA     ┆ 191062    ┆ Zona      ┆ … ┆ 2022-06-0 ┆ 2022-06-0 ┆ 2022-06-0 ┆ 2022-06- │\n",
       "│ 122353    ┆ UNION     ┆           ┆ Centro    ┆   ┆ 1         ┆ 5         ┆ 5         ┆ 05       │\n",
       "│ WO0000004 ┆ AREQUIPA  ┆ 215000    ┆ Zona      ┆ … ┆ 2022-06-0 ┆ 2022-06-1 ┆ 2022-06-1 ┆ 2022-06- │\n",
       "│ 122360    ┆           ┆           ┆ Norte     ┆   ┆ 1         ┆ 3         ┆ 3         ┆ 13       │\n",
       "│ WO0000004 ┆ PLAZA     ┆ 191058    ┆ Zona      ┆ … ┆ 2022-06-0 ┆ 2022-06-0 ┆ null      ┆ 2022-06- │\n",
       "│ 122387    ┆ LIMA      ┆           ┆ Centro    ┆   ┆ 1         ┆ 6         ┆           ┆ 06       │\n",
       "│           ┆ NORTE     ┆           ┆           ┆   ┆           ┆           ┆           ┆          │\n",
       "└───────────┴───────────┴───────────┴───────────┴───┴───────────┴───────────┴───────────┴──────────┘"
      ]
     },
     "execution_count": 43,
     "metadata": {},
     "output_type": "execute_result"
    }
   ],
   "source": [
    "Tickets = Tickets.with_columns(\n",
    "    pl.when(pl.col('Fecha Termino').is_null())\n",
    "    .then(pl.col('Fecha Cierre'))\n",
    "    .otherwise(pl.col('Fecha Termino'))\n",
    "    .alias('Fecha Real Fin')\n",
    ")\n",
    "\n",
    "Tickets.head(10)"
   ]
  },
  {
   "cell_type": "code",
   "execution_count": 44,
   "metadata": {},
   "outputs": [],
   "source": [
    "Tickets = Tickets.with_columns(\n",
    "    (pl.col('Fecha Real Fin')-pl.col('Fecha Creacion'))\n",
    "    .dt.total_days()\n",
    "    .alias('Dias Cierre')\n",
    ")"
   ]
  },
  {
   "cell_type": "code",
   "execution_count": 45,
   "metadata": {},
   "outputs": [
    {
     "data": {
      "text/html": [
       "<div><style>\n",
       ".dataframe > thead > tr,\n",
       ".dataframe > tbody > tr {\n",
       "  text-align: right;\n",
       "  white-space: pre-wrap;\n",
       "}\n",
       "</style>\n",
       "<small>shape: (10, 10)</small><table border=\"1\" class=\"dataframe\"><thead><tr><th>TicketID</th><th>Agencia</th><th>AgenciaID</th><th>Service Desk</th><th>Estado</th><th>Fecha Creacion</th><th>Fecha Termino</th><th>Fecha Cierre</th><th>Fecha Real Fin</th><th>Dias Cierre</th></tr><tr><td>str</td><td>str</td><td>i64</td><td>str</td><td>str</td><td>date</td><td>date</td><td>date</td><td>date</td><td>i64</td></tr></thead><tbody><tr><td>&quot;OT0000004849379&quot;</td><td>&quot;NAYLAMP&quot;</td><td>191143</td><td>&quot;Zona Centro&quot;</td><td>&quot;Cerrado&quot;</td><td>2022-12-31</td><td>2023-01-25</td><td>2023-01-28</td><td>2023-01-25</td><td>25</td></tr><tr><td>&quot;OT0000004849382&quot;</td><td>&quot;LOS DAMASCOS&quot;</td><td>193038</td><td>&quot;Zona Sur&quot;</td><td>&quot;Cerrado&quot;</td><td>2022-12-31</td><td>2023-01-04</td><td>2023-01-07</td><td>2023-01-04</td><td>4</td></tr><tr><td>&quot;OT0000004849726&quot;</td><td>&quot;LUREN&quot;</td><td>380004</td><td>&quot;Zona Sur&quot;</td><td>&quot;Cerrado&quot;</td><td>2022-12-31</td><td>2023-01-02</td><td>2023-01-05</td><td>2023-01-02</td><td>2</td></tr><tr><td>&quot;OT0000004849732&quot;</td><td>&quot;EL PINO&quot;</td><td>191087</td><td>&quot;Zona Centro&quot;</td><td>&quot;Cerrado&quot;</td><td>2022-12-31</td><td>2023-01-06</td><td>2023-01-09</td><td>2023-01-06</td><td>6</td></tr><tr><td>&quot;SA0000004849307&quot;</td><td>&quot;TUSILAGOS&quot;</td><td>191108</td><td>&quot;Zona Centro&quot;</td><td>&quot;Rechazado&quot;</td><td>2022-12-31</td><td>null</td><td>null</td><td>null</td><td>null</td></tr><tr><td>&quot;WO0000004122302&quot;</td><td>&quot;IMPERIAL&quot;</td><td>255001</td><td>&quot;Zona Norte&quot;</td><td>&quot;Cerrado&quot;</td><td>2022-06-01</td><td>2022-06-10</td><td>2022-06-10</td><td>2022-06-10</td><td>9</td></tr><tr><td>&quot;WO0000004122303&quot;</td><td>&quot;IMPERIAL&quot;</td><td>255001</td><td>&quot;Zona Norte&quot;</td><td>&quot;Cerrado&quot;</td><td>2022-06-01</td><td>2022-06-17</td><td>2022-06-17</td><td>2022-06-17</td><td>16</td></tr><tr><td>&quot;WO0000004122353&quot;</td><td>&quot;PLAZA UNION&quot;</td><td>191062</td><td>&quot;Zona Centro&quot;</td><td>&quot;Cerrado&quot;</td><td>2022-06-01</td><td>2022-06-05</td><td>2022-06-05</td><td>2022-06-05</td><td>4</td></tr><tr><td>&quot;WO0000004122360&quot;</td><td>&quot;AREQUIPA&quot;</td><td>215000</td><td>&quot;Zona Norte&quot;</td><td>&quot;Cerrado&quot;</td><td>2022-06-01</td><td>2022-06-13</td><td>2022-06-13</td><td>2022-06-13</td><td>12</td></tr><tr><td>&quot;WO0000004122387&quot;</td><td>&quot;PLAZA LIMA NORTE&quot;</td><td>191058</td><td>&quot;Zona Centro&quot;</td><td>&quot;Rechazado&quot;</td><td>2022-06-01</td><td>2022-06-06</td><td>null</td><td>2022-06-06</td><td>5</td></tr></tbody></table></div>"
      ],
      "text/plain": [
       "shape: (10, 10)\n",
       "┌───────────┬───────────┬───────────┬───────────┬───┬───────────┬───────────┬───────────┬──────────┐\n",
       "│ TicketID  ┆ Agencia   ┆ AgenciaID ┆ Service   ┆ … ┆ Fecha     ┆ Fecha     ┆ Fecha     ┆ Dias     │\n",
       "│ ---       ┆ ---       ┆ ---       ┆ Desk      ┆   ┆ Termino   ┆ Cierre    ┆ Real Fin  ┆ Cierre   │\n",
       "│ str       ┆ str       ┆ i64       ┆ ---       ┆   ┆ ---       ┆ ---       ┆ ---       ┆ ---      │\n",
       "│           ┆           ┆           ┆ str       ┆   ┆ date      ┆ date      ┆ date      ┆ i64      │\n",
       "╞═══════════╪═══════════╪═══════════╪═══════════╪═══╪═══════════╪═══════════╪═══════════╪══════════╡\n",
       "│ OT0000004 ┆ NAYLAMP   ┆ 191143    ┆ Zona      ┆ … ┆ 2023-01-2 ┆ 2023-01-2 ┆ 2023-01-2 ┆ 25       │\n",
       "│ 849379    ┆           ┆           ┆ Centro    ┆   ┆ 5         ┆ 8         ┆ 5         ┆          │\n",
       "│ OT0000004 ┆ LOS       ┆ 193038    ┆ Zona Sur  ┆ … ┆ 2023-01-0 ┆ 2023-01-0 ┆ 2023-01-0 ┆ 4        │\n",
       "│ 849382    ┆ DAMASCOS  ┆           ┆           ┆   ┆ 4         ┆ 7         ┆ 4         ┆          │\n",
       "│ OT0000004 ┆ LUREN     ┆ 380004    ┆ Zona Sur  ┆ … ┆ 2023-01-0 ┆ 2023-01-0 ┆ 2023-01-0 ┆ 2        │\n",
       "│ 849726    ┆           ┆           ┆           ┆   ┆ 2         ┆ 5         ┆ 2         ┆          │\n",
       "│ OT0000004 ┆ EL PINO   ┆ 191087    ┆ Zona      ┆ … ┆ 2023-01-0 ┆ 2023-01-0 ┆ 2023-01-0 ┆ 6        │\n",
       "│ 849732    ┆           ┆           ┆ Centro    ┆   ┆ 6         ┆ 9         ┆ 6         ┆          │\n",
       "│ SA0000004 ┆ TUSILAGOS ┆ 191108    ┆ Zona      ┆ … ┆ null      ┆ null      ┆ null      ┆ null     │\n",
       "│ 849307    ┆           ┆           ┆ Centro    ┆   ┆           ┆           ┆           ┆          │\n",
       "│ WO0000004 ┆ IMPERIAL  ┆ 255001    ┆ Zona      ┆ … ┆ 2022-06-1 ┆ 2022-06-1 ┆ 2022-06-1 ┆ 9        │\n",
       "│ 122302    ┆           ┆           ┆ Norte     ┆   ┆ 0         ┆ 0         ┆ 0         ┆          │\n",
       "│ WO0000004 ┆ IMPERIAL  ┆ 255001    ┆ Zona      ┆ … ┆ 2022-06-1 ┆ 2022-06-1 ┆ 2022-06-1 ┆ 16       │\n",
       "│ 122303    ┆           ┆           ┆ Norte     ┆   ┆ 7         ┆ 7         ┆ 7         ┆          │\n",
       "│ WO0000004 ┆ PLAZA     ┆ 191062    ┆ Zona      ┆ … ┆ 2022-06-0 ┆ 2022-06-0 ┆ 2022-06-0 ┆ 4        │\n",
       "│ 122353    ┆ UNION     ┆           ┆ Centro    ┆   ┆ 5         ┆ 5         ┆ 5         ┆          │\n",
       "│ WO0000004 ┆ AREQUIPA  ┆ 215000    ┆ Zona      ┆ … ┆ 2022-06-1 ┆ 2022-06-1 ┆ 2022-06-1 ┆ 12       │\n",
       "│ 122360    ┆           ┆           ┆ Norte     ┆   ┆ 3         ┆ 3         ┆ 3         ┆          │\n",
       "│ WO0000004 ┆ PLAZA     ┆ 191058    ┆ Zona      ┆ … ┆ 2022-06-0 ┆ null      ┆ 2022-06-0 ┆ 5        │\n",
       "│ 122387    ┆ LIMA      ┆           ┆ Centro    ┆   ┆ 6         ┆           ┆ 6         ┆          │\n",
       "│           ┆ NORTE     ┆           ┆           ┆   ┆           ┆           ┆           ┆          │\n",
       "└───────────┴───────────┴───────────┴───────────┴───┴───────────┴───────────┴───────────┴──────────┘"
      ]
     },
     "execution_count": 45,
     "metadata": {},
     "output_type": "execute_result"
    }
   ],
   "source": [
    "Tickets.head(10)"
   ]
  },
  {
   "cell_type": "code",
   "execution_count": 46,
   "metadata": {},
   "outputs": [
    {
     "data": {
      "text/html": [
       "<div><style>\n",
       ".dataframe > thead > tr,\n",
       ".dataframe > tbody > tr {\n",
       "  text-align: right;\n",
       "  white-space: pre-wrap;\n",
       "}\n",
       "</style>\n",
       "<small>shape: (10, 11)</small><table border=\"1\" class=\"dataframe\"><thead><tr><th>TicketID</th><th>Agencia</th><th>AgenciaID</th><th>Service Desk</th><th>Estado</th><th>Fecha Creacion</th><th>Fecha Termino</th><th>Fecha Cierre</th><th>Fecha Real Fin</th><th>Dias Cierre</th><th>Grupo Dias</th></tr><tr><td>str</td><td>str</td><td>i64</td><td>str</td><td>str</td><td>date</td><td>date</td><td>date</td><td>date</td><td>i64</td><td>str</td></tr></thead><tbody><tr><td>&quot;OT0000004849379&quot;</td><td>&quot;NAYLAMP&quot;</td><td>191143</td><td>&quot;Zona Centro&quot;</td><td>&quot;Cerrado&quot;</td><td>2022-12-31</td><td>2023-01-25</td><td>2023-01-28</td><td>2023-01-25</td><td>25</td><td>&quot;+ 15 Dias&quot;</td></tr><tr><td>&quot;OT0000004849382&quot;</td><td>&quot;LOS DAMASCOS&quot;</td><td>193038</td><td>&quot;Zona Sur&quot;</td><td>&quot;Cerrado&quot;</td><td>2022-12-31</td><td>2023-01-04</td><td>2023-01-07</td><td>2023-01-04</td><td>4</td><td>&quot;4 a 7 Dias&quot;</td></tr><tr><td>&quot;OT0000004849726&quot;</td><td>&quot;LUREN&quot;</td><td>380004</td><td>&quot;Zona Sur&quot;</td><td>&quot;Cerrado&quot;</td><td>2022-12-31</td><td>2023-01-02</td><td>2023-01-05</td><td>2023-01-02</td><td>2</td><td>&quot;0 a 3 Dias&quot;</td></tr><tr><td>&quot;OT0000004849732&quot;</td><td>&quot;EL PINO&quot;</td><td>191087</td><td>&quot;Zona Centro&quot;</td><td>&quot;Cerrado&quot;</td><td>2022-12-31</td><td>2023-01-06</td><td>2023-01-09</td><td>2023-01-06</td><td>6</td><td>&quot;4 a 7 Dias&quot;</td></tr><tr><td>&quot;SA0000004849307&quot;</td><td>&quot;TUSILAGOS&quot;</td><td>191108</td><td>&quot;Zona Centro&quot;</td><td>&quot;Rechazado&quot;</td><td>2022-12-31</td><td>null</td><td>null</td><td>null</td><td>null</td><td>null</td></tr><tr><td>&quot;WO0000004122302&quot;</td><td>&quot;IMPERIAL&quot;</td><td>255001</td><td>&quot;Zona Norte&quot;</td><td>&quot;Cerrado&quot;</td><td>2022-06-01</td><td>2022-06-10</td><td>2022-06-10</td><td>2022-06-10</td><td>9</td><td>&quot;8 a 15 Dias&quot;</td></tr><tr><td>&quot;WO0000004122303&quot;</td><td>&quot;IMPERIAL&quot;</td><td>255001</td><td>&quot;Zona Norte&quot;</td><td>&quot;Cerrado&quot;</td><td>2022-06-01</td><td>2022-06-17</td><td>2022-06-17</td><td>2022-06-17</td><td>16</td><td>&quot;+ 15 Dias&quot;</td></tr><tr><td>&quot;WO0000004122353&quot;</td><td>&quot;PLAZA UNION&quot;</td><td>191062</td><td>&quot;Zona Centro&quot;</td><td>&quot;Cerrado&quot;</td><td>2022-06-01</td><td>2022-06-05</td><td>2022-06-05</td><td>2022-06-05</td><td>4</td><td>&quot;4 a 7 Dias&quot;</td></tr><tr><td>&quot;WO0000004122360&quot;</td><td>&quot;AREQUIPA&quot;</td><td>215000</td><td>&quot;Zona Norte&quot;</td><td>&quot;Cerrado&quot;</td><td>2022-06-01</td><td>2022-06-13</td><td>2022-06-13</td><td>2022-06-13</td><td>12</td><td>&quot;8 a 15 Dias&quot;</td></tr><tr><td>&quot;WO0000004122387&quot;</td><td>&quot;PLAZA LIMA NORTE&quot;</td><td>191058</td><td>&quot;Zona Centro&quot;</td><td>&quot;Rechazado&quot;</td><td>2022-06-01</td><td>2022-06-06</td><td>null</td><td>2022-06-06</td><td>5</td><td>&quot;4 a 7 Dias&quot;</td></tr></tbody></table></div>"
      ],
      "text/plain": [
       "shape: (10, 11)\n",
       "┌───────────┬───────────┬───────────┬───────────┬───┬───────────┬───────────┬───────────┬──────────┐\n",
       "│ TicketID  ┆ Agencia   ┆ AgenciaID ┆ Service   ┆ … ┆ Fecha     ┆ Fecha     ┆ Dias      ┆ Grupo    │\n",
       "│ ---       ┆ ---       ┆ ---       ┆ Desk      ┆   ┆ Cierre    ┆ Real Fin  ┆ Cierre    ┆ Dias     │\n",
       "│ str       ┆ str       ┆ i64       ┆ ---       ┆   ┆ ---       ┆ ---       ┆ ---       ┆ ---      │\n",
       "│           ┆           ┆           ┆ str       ┆   ┆ date      ┆ date      ┆ i64       ┆ str      │\n",
       "╞═══════════╪═══════════╪═══════════╪═══════════╪═══╪═══════════╪═══════════╪═══════════╪══════════╡\n",
       "│ OT0000004 ┆ NAYLAMP   ┆ 191143    ┆ Zona      ┆ … ┆ 2023-01-2 ┆ 2023-01-2 ┆ 25        ┆ + 15     │\n",
       "│ 849379    ┆           ┆           ┆ Centro    ┆   ┆ 8         ┆ 5         ┆           ┆ Dias     │\n",
       "│ OT0000004 ┆ LOS       ┆ 193038    ┆ Zona Sur  ┆ … ┆ 2023-01-0 ┆ 2023-01-0 ┆ 4         ┆ 4 a 7    │\n",
       "│ 849382    ┆ DAMASCOS  ┆           ┆           ┆   ┆ 7         ┆ 4         ┆           ┆ Dias     │\n",
       "│ OT0000004 ┆ LUREN     ┆ 380004    ┆ Zona Sur  ┆ … ┆ 2023-01-0 ┆ 2023-01-0 ┆ 2         ┆ 0 a 3    │\n",
       "│ 849726    ┆           ┆           ┆           ┆   ┆ 5         ┆ 2         ┆           ┆ Dias     │\n",
       "│ OT0000004 ┆ EL PINO   ┆ 191087    ┆ Zona      ┆ … ┆ 2023-01-0 ┆ 2023-01-0 ┆ 6         ┆ 4 a 7    │\n",
       "│ 849732    ┆           ┆           ┆ Centro    ┆   ┆ 9         ┆ 6         ┆           ┆ Dias     │\n",
       "│ SA0000004 ┆ TUSILAGOS ┆ 191108    ┆ Zona      ┆ … ┆ null      ┆ null      ┆ null      ┆ null     │\n",
       "│ 849307    ┆           ┆           ┆ Centro    ┆   ┆           ┆           ┆           ┆          │\n",
       "│ WO0000004 ┆ IMPERIAL  ┆ 255001    ┆ Zona      ┆ … ┆ 2022-06-1 ┆ 2022-06-1 ┆ 9         ┆ 8 a 15   │\n",
       "│ 122302    ┆           ┆           ┆ Norte     ┆   ┆ 0         ┆ 0         ┆           ┆ Dias     │\n",
       "│ WO0000004 ┆ IMPERIAL  ┆ 255001    ┆ Zona      ┆ … ┆ 2022-06-1 ┆ 2022-06-1 ┆ 16        ┆ + 15     │\n",
       "│ 122303    ┆           ┆           ┆ Norte     ┆   ┆ 7         ┆ 7         ┆           ┆ Dias     │\n",
       "│ WO0000004 ┆ PLAZA     ┆ 191062    ┆ Zona      ┆ … ┆ 2022-06-0 ┆ 2022-06-0 ┆ 4         ┆ 4 a 7    │\n",
       "│ 122353    ┆ UNION     ┆           ┆ Centro    ┆   ┆ 5         ┆ 5         ┆           ┆ Dias     │\n",
       "│ WO0000004 ┆ AREQUIPA  ┆ 215000    ┆ Zona      ┆ … ┆ 2022-06-1 ┆ 2022-06-1 ┆ 12        ┆ 8 a 15   │\n",
       "│ 122360    ┆           ┆           ┆ Norte     ┆   ┆ 3         ┆ 3         ┆           ┆ Dias     │\n",
       "│ WO0000004 ┆ PLAZA     ┆ 191058    ┆ Zona      ┆ … ┆ null      ┆ 2022-06-0 ┆ 5         ┆ 4 a 7    │\n",
       "│ 122387    ┆ LIMA      ┆           ┆ Centro    ┆   ┆           ┆ 6         ┆           ┆ Dias     │\n",
       "│           ┆ NORTE     ┆           ┆           ┆   ┆           ┆           ┆           ┆          │\n",
       "└───────────┴───────────┴───────────┴───────────┴───┴───────────┴───────────┴───────────┴──────────┘"
      ]
     },
     "execution_count": 46,
     "metadata": {},
     "output_type": "execute_result"
    }
   ],
   "source": [
    "Tickets = Tickets.with_columns(\n",
    "    pl.when(pl.col('Dias Cierre').is_null()).then(None)\n",
    "    .when(pl.col('Dias Cierre') <= 3).then(pl.lit('0 a 3 Dias'))\n",
    "    .when((pl.col('Dias Cierre') > 3) & (pl.col('Dias Cierre') <= 7)).then(pl.lit('4 a 7 Dias'))\n",
    "    .when((pl.col('Dias Cierre') > 7) & (pl.col('Dias Cierre') <= 15)).then(pl.lit('8 a 15 Dias'))\n",
    "    .otherwise(pl.lit('+ 15 Dias'))\n",
    "    .alias('Grupo Dias')\n",
    ")\n",
    "\n",
    "Tickets.head(10)"
   ]
  },
  {
   "cell_type": "markdown",
   "metadata": {},
   "source": [
    "## ATENCIONES"
   ]
  },
  {
   "cell_type": "code",
   "execution_count": 47,
   "metadata": {},
   "outputs": [],
   "source": [
    "from pathlib import Path"
   ]
  },
  {
   "cell_type": "code",
   "execution_count": 48,
   "metadata": {},
   "outputs": [
    {
     "data": {
      "text/plain": [
       "WindowsPath('Atenciones')"
      ]
     },
     "execution_count": 48,
     "metadata": {},
     "output_type": "execute_result"
    }
   ],
   "source": [
    "rutaCarpeta = Path('./Atenciones/')\n",
    "rutaCarpeta"
   ]
  },
  {
   "cell_type": "code",
   "execution_count": 49,
   "metadata": {},
   "outputs": [],
   "source": [
    "archivosExcel = list(rutaCarpeta.glob('*.xlsx'))"
   ]
  },
  {
   "cell_type": "code",
   "execution_count": 50,
   "metadata": {},
   "outputs": [
    {
     "name": "stdout",
     "output_type": "stream",
     "text": [
      "Atenciones Centro.xlsx\n",
      "Atenciones Norte.xlsx\n",
      "Atenciones Sur.xlsx\n"
     ]
    }
   ],
   "source": [
    "for archivo in archivosExcel:\n",
    "    print(str(archivo).split(\"\\\\\")[1])"
   ]
  },
  {
   "cell_type": "code",
   "execution_count": 51,
   "metadata": {},
   "outputs": [],
   "source": [
    "Atenciones = pl.DataFrame()\n",
    "\n",
    "for archivo in archivosExcel:\n",
    "\n",
    "    file = str(archivo).split(\"\\\\\")[1]\n",
    "\n",
    "    aux_DF = pl.read_excel(\n",
    "        source='./Atenciones/' + file,\n",
    "        sheet_name='Hoja1',\n",
    "        engine='xlsx2csv',\n",
    "        read_csv_options={\n",
    "            \"columns\": [\"Numero Ticket\",\"Tipo de Ticket\",\"Proveedor\",\"Costo Atencion\"],\n",
    "            \"infer_schema_length\": 0\n",
    "        }\n",
    "    )\n",
    "\n",
    "    aux_DF = aux_DF.with_columns(pl.lit(file).alias(\"Nombre Archivo\"))\n",
    "\n",
    "    Atenciones = pl.concat([Atenciones,aux_DF], how='vertical')"
   ]
  },
  {
   "cell_type": "code",
   "execution_count": 52,
   "metadata": {},
   "outputs": [
    {
     "data": {
      "text/html": [
       "<div><style>\n",
       ".dataframe > thead > tr,\n",
       ".dataframe > tbody > tr {\n",
       "  text-align: right;\n",
       "  white-space: pre-wrap;\n",
       "}\n",
       "</style>\n",
       "<small>shape: (10, 5)</small><table border=\"1\" class=\"dataframe\"><thead><tr><th>Numero Ticket</th><th>Tipo de Ticket</th><th>Proveedor</th><th>Costo Atencion</th><th>Nombre Archivo</th></tr><tr><td>str</td><td>str</td><td>str</td><td>str</td><td>str</td></tr></thead><tbody><tr><td>&quot;WO0000005584689&quot;</td><td>&quot;Variable&quot;</td><td>&quot;MR EXPRESS&quot;</td><td>null</td><td>&quot;Atenciones Centro.xlsx&quot;</td></tr><tr><td>&quot;WO0000004544943&quot;</td><td>&quot;Rechazado&quot;</td><td>null</td><td>&quot;100&quot;</td><td>&quot;Atenciones Centro.xlsx&quot;</td></tr><tr><td>&quot;WO0000004545246&quot;</td><td>&quot;Rechazado&quot;</td><td>null</td><td>&quot;100&quot;</td><td>&quot;Atenciones Centro.xlsx&quot;</td></tr><tr><td>&quot;WO0000004559125&quot;</td><td>&quot;Rechazado&quot;</td><td>null</td><td>&quot;100&quot;</td><td>&quot;Atenciones Centro.xlsx&quot;</td></tr><tr><td>&quot;WO0000004707477&quot;</td><td>&quot;Rechazado&quot;</td><td>null</td><td>&quot;100&quot;</td><td>&quot;Atenciones Centro.xlsx&quot;</td></tr><tr><td>&quot;WO0000004759976&quot;</td><td>&quot;Rechazado&quot;</td><td>null</td><td>&quot;100&quot;</td><td>&quot;Atenciones Centro.xlsx&quot;</td></tr><tr><td>&quot;WO0000004795876&quot;</td><td>&quot;Rechazado&quot;</td><td>null</td><td>&quot;100&quot;</td><td>&quot;Atenciones Centro.xlsx&quot;</td></tr><tr><td>&quot;WO0000004825300&quot;</td><td>&quot;Rechazado&quot;</td><td>null</td><td>&quot;100&quot;</td><td>&quot;Atenciones Centro.xlsx&quot;</td></tr><tr><td>&quot;WO0000004853680&quot;</td><td>&quot;Flat&quot;</td><td>&quot;ACCENTURE&quot;</td><td>&quot;100&quot;</td><td>&quot;Atenciones Centro.xlsx&quot;</td></tr><tr><td>&quot;WO0000004925389&quot;</td><td>&quot;Flat&quot;</td><td>&quot;ACCENTURE&quot;</td><td>&quot;100&quot;</td><td>&quot;Atenciones Centro.xlsx&quot;</td></tr></tbody></table></div>"
      ],
      "text/plain": [
       "shape: (10, 5)\n",
       "┌─────────────────┬────────────────┬────────────┬────────────────┬────────────────────────┐\n",
       "│ Numero Ticket   ┆ Tipo de Ticket ┆ Proveedor  ┆ Costo Atencion ┆ Nombre Archivo         │\n",
       "│ ---             ┆ ---            ┆ ---        ┆ ---            ┆ ---                    │\n",
       "│ str             ┆ str            ┆ str        ┆ str            ┆ str                    │\n",
       "╞═════════════════╪════════════════╪════════════╪════════════════╪════════════════════════╡\n",
       "│ WO0000005584689 ┆ Variable       ┆ MR EXPRESS ┆ null           ┆ Atenciones Centro.xlsx │\n",
       "│ WO0000004544943 ┆ Rechazado      ┆ null       ┆ 100            ┆ Atenciones Centro.xlsx │\n",
       "│ WO0000004545246 ┆ Rechazado      ┆ null       ┆ 100            ┆ Atenciones Centro.xlsx │\n",
       "│ WO0000004559125 ┆ Rechazado      ┆ null       ┆ 100            ┆ Atenciones Centro.xlsx │\n",
       "│ WO0000004707477 ┆ Rechazado      ┆ null       ┆ 100            ┆ Atenciones Centro.xlsx │\n",
       "│ WO0000004759976 ┆ Rechazado      ┆ null       ┆ 100            ┆ Atenciones Centro.xlsx │\n",
       "│ WO0000004795876 ┆ Rechazado      ┆ null       ┆ 100            ┆ Atenciones Centro.xlsx │\n",
       "│ WO0000004825300 ┆ Rechazado      ┆ null       ┆ 100            ┆ Atenciones Centro.xlsx │\n",
       "│ WO0000004853680 ┆ Flat           ┆ ACCENTURE  ┆ 100            ┆ Atenciones Centro.xlsx │\n",
       "│ WO0000004925389 ┆ Flat           ┆ ACCENTURE  ┆ 100            ┆ Atenciones Centro.xlsx │\n",
       "└─────────────────┴────────────────┴────────────┴────────────────┴────────────────────────┘"
      ]
     },
     "execution_count": 52,
     "metadata": {},
     "output_type": "execute_result"
    }
   ],
   "source": [
    "Atenciones.head(10)"
   ]
  },
  {
   "cell_type": "code",
   "execution_count": 53,
   "metadata": {},
   "outputs": [],
   "source": [
    "Atenciones = Atenciones.select(\n",
    "    pl.col('Numero Ticket').alias('TicketID'),\n",
    "    'Tipo de Ticket',\n",
    "    'Proveedor',\n",
    "    pl.col('Costo Atencion').str.strip_chars()\n",
    "    .str.to_uppercase()\n",
    "    .str.replace_many(\n",
    "        ['COSTO CERO', 'SIN COSTO'],\n",
    "        \"0\"\n",
    "    )\n",
    ")"
   ]
  },
  {
   "cell_type": "code",
   "execution_count": 54,
   "metadata": {},
   "outputs": [
    {
     "data": {
      "text/html": [
       "<div><style>\n",
       ".dataframe > thead > tr,\n",
       ".dataframe > tbody > tr {\n",
       "  text-align: right;\n",
       "  white-space: pre-wrap;\n",
       "}\n",
       "</style>\n",
       "<small>shape: (6_266, 4)</small><table border=\"1\" class=\"dataframe\"><thead><tr><th>TicketID</th><th>Tipo de Ticket</th><th>Proveedor</th><th>Costo Atencion</th></tr><tr><td>str</td><td>str</td><td>str</td><td>str</td></tr></thead><tbody><tr><td>&quot;WO0000004544943&quot;</td><td>&quot;Rechazado&quot;</td><td>null</td><td>&quot;100&quot;</td></tr><tr><td>&quot;WO0000004545246&quot;</td><td>&quot;Rechazado&quot;</td><td>null</td><td>&quot;100&quot;</td></tr><tr><td>&quot;WO0000004559125&quot;</td><td>&quot;Rechazado&quot;</td><td>null</td><td>&quot;100&quot;</td></tr><tr><td>&quot;WO0000004707477&quot;</td><td>&quot;Rechazado&quot;</td><td>null</td><td>&quot;100&quot;</td></tr><tr><td>&quot;WO0000004759976&quot;</td><td>&quot;Rechazado&quot;</td><td>null</td><td>&quot;100&quot;</td></tr><tr><td>&quot;WO0000004795876&quot;</td><td>&quot;Rechazado&quot;</td><td>null</td><td>&quot;100&quot;</td></tr><tr><td>&quot;WO0000004825300&quot;</td><td>&quot;Rechazado&quot;</td><td>null</td><td>&quot;100&quot;</td></tr><tr><td>&quot;WO0000004853680&quot;</td><td>&quot;Flat&quot;</td><td>&quot;ACCENTURE&quot;</td><td>&quot;100&quot;</td></tr><tr><td>&quot;WO0000004925389&quot;</td><td>&quot;Flat&quot;</td><td>&quot;ACCENTURE&quot;</td><td>&quot;100&quot;</td></tr><tr><td>&quot;WO0000005024904&quot;</td><td>&quot;Flat&quot;</td><td>&quot;ACCENTURE&quot;</td><td>&quot;100&quot;</td></tr><tr><td>&quot;WO0000005024973&quot;</td><td>&quot;Flat&quot;</td><td>&quot;ACCENTURE&quot;</td><td>&quot;100&quot;</td></tr><tr><td>&quot;WO0000005064089&quot;</td><td>&quot;Flat&quot;</td><td>&quot;ACCENTURE&quot;</td><td>&quot;100&quot;</td></tr><tr><td>&hellip;</td><td>&hellip;</td><td>&hellip;</td><td>&hellip;</td></tr><tr><td>&quot;WO0000005730406&quot;</td><td>&quot;Variable&quot;</td><td>&quot;CECHRIZA&quot;</td><td>&quot;0&quot;</td></tr><tr><td>&quot;WO0000005730455&quot;</td><td>&quot;Variable&quot;</td><td>&quot;JGM IMPORT&quot;</td><td>&quot;200.6&quot;</td></tr><tr><td>&quot;WO0000005731335&quot;</td><td>&quot;Variable&quot;</td><td>&quot;CECHRIZA&quot;</td><td>&quot;59&quot;</td></tr><tr><td>&quot;WO0000005731337&quot;</td><td>&quot;Variable&quot;</td><td>&quot;CECHRIZA&quot;</td><td>&quot;59&quot;</td></tr><tr><td>&quot;WO0000005731338&quot;</td><td>&quot;Variable&quot;</td><td>&quot;CECHRIZA&quot;</td><td>&quot;59&quot;</td></tr><tr><td>&quot;WO0000005731349&quot;</td><td>&quot;Flat&quot;</td><td>&quot;ACCENTURE&quot;</td><td>&quot;0&quot;</td></tr><tr><td>&quot;WO0000005731737&quot;</td><td>&quot;Variable&quot;</td><td>&quot;CECHRIZA&quot;</td><td>&quot;901.96&quot;</td></tr><tr><td>&quot;WO0000005731747&quot;</td><td>&quot;Variable&quot;</td><td>&quot;CECHRIZA&quot;</td><td>&quot;2083.4299999999998&quot;</td></tr><tr><td>&quot;WO0000005733751&quot;</td><td>&quot;Variable&quot;</td><td>&quot;CECHRIZA&quot;</td><td>&quot;59&quot;</td></tr><tr><td>&quot;WO0000005734101&quot;</td><td>&quot;Flat&quot;</td><td>&quot;ACCENTURE&quot;</td><td>&quot;0&quot;</td></tr><tr><td>&quot;WO0000005734524&quot;</td><td>&quot;Flat&quot;</td><td>&quot;ACCENTURE&quot;</td><td>&quot;0&quot;</td></tr><tr><td>&quot;WO0000005735276&quot;</td><td>&quot;Variable&quot;</td><td>&quot;TRAZAIDEA&quot;</td><td>&quot;404.74&quot;</td></tr></tbody></table></div>"
      ],
      "text/plain": [
       "shape: (6_266, 4)\n",
       "┌─────────────────┬────────────────┬───────────┬────────────────────┐\n",
       "│ TicketID        ┆ Tipo de Ticket ┆ Proveedor ┆ Costo Atencion     │\n",
       "│ ---             ┆ ---            ┆ ---       ┆ ---                │\n",
       "│ str             ┆ str            ┆ str       ┆ str                │\n",
       "╞═════════════════╪════════════════╪═══════════╪════════════════════╡\n",
       "│ WO0000004544943 ┆ Rechazado      ┆ null      ┆ 100                │\n",
       "│ WO0000004545246 ┆ Rechazado      ┆ null      ┆ 100                │\n",
       "│ WO0000004559125 ┆ Rechazado      ┆ null      ┆ 100                │\n",
       "│ WO0000004707477 ┆ Rechazado      ┆ null      ┆ 100                │\n",
       "│ WO0000004759976 ┆ Rechazado      ┆ null      ┆ 100                │\n",
       "│ …               ┆ …              ┆ …         ┆ …                  │\n",
       "│ WO0000005731747 ┆ Variable       ┆ CECHRIZA  ┆ 2083.4299999999998 │\n",
       "│ WO0000005733751 ┆ Variable       ┆ CECHRIZA  ┆ 59                 │\n",
       "│ WO0000005734101 ┆ Flat           ┆ ACCENTURE ┆ 0                  │\n",
       "│ WO0000005734524 ┆ Flat           ┆ ACCENTURE ┆ 0                  │\n",
       "│ WO0000005735276 ┆ Variable       ┆ TRAZAIDEA ┆ 404.74             │\n",
       "└─────────────────┴────────────────┴───────────┴────────────────────┘"
      ]
     },
     "execution_count": 54,
     "metadata": {},
     "output_type": "execute_result"
    }
   ],
   "source": [
    "Atenciones.filter(\n",
    "    ~pl.col('Costo Atencion').is_null()\n",
    ")"
   ]
  },
  {
   "cell_type": "code",
   "execution_count": 55,
   "metadata": {},
   "outputs": [],
   "source": [
    "def texto_a_decimal(valor):\n",
    "    try:\n",
    "        return round(float(valor),2)\n",
    "    except:\n",
    "        return None"
   ]
  },
  {
   "cell_type": "code",
   "execution_count": 57,
   "metadata": {},
   "outputs": [],
   "source": [
    "Atenciones = Atenciones.with_columns(\n",
    "    pl.col('Costo Atencion').map_elements(texto_a_decimal).alias('Costo Atencion')\n",
    ").filter(\n",
    "    ~pl.col('Costo Atencion').is_null()\n",
    ")"
   ]
  },
  {
   "cell_type": "code",
   "execution_count": 58,
   "metadata": {},
   "outputs": [
    {
     "data": {
      "text/html": [
       "<div><style>\n",
       ".dataframe > thead > tr,\n",
       ".dataframe > tbody > tr {\n",
       "  text-align: right;\n",
       "  white-space: pre-wrap;\n",
       "}\n",
       "</style>\n",
       "<small>shape: (10, 4)</small><table border=\"1\" class=\"dataframe\"><thead><tr><th>TicketID</th><th>Tipo de Ticket</th><th>Proveedor</th><th>Costo Atencion</th></tr><tr><td>str</td><td>str</td><td>str</td><td>f64</td></tr></thead><tbody><tr><td>&quot;WO0000004544943&quot;</td><td>&quot;Rechazado&quot;</td><td>null</td><td>100.0</td></tr><tr><td>&quot;WO0000004545246&quot;</td><td>&quot;Rechazado&quot;</td><td>null</td><td>100.0</td></tr><tr><td>&quot;WO0000004559125&quot;</td><td>&quot;Rechazado&quot;</td><td>null</td><td>100.0</td></tr><tr><td>&quot;WO0000004707477&quot;</td><td>&quot;Rechazado&quot;</td><td>null</td><td>100.0</td></tr><tr><td>&quot;WO0000004759976&quot;</td><td>&quot;Rechazado&quot;</td><td>null</td><td>100.0</td></tr><tr><td>&quot;WO0000004795876&quot;</td><td>&quot;Rechazado&quot;</td><td>null</td><td>100.0</td></tr><tr><td>&quot;WO0000004825300&quot;</td><td>&quot;Rechazado&quot;</td><td>null</td><td>100.0</td></tr><tr><td>&quot;WO0000004853680&quot;</td><td>&quot;Flat&quot;</td><td>&quot;ACCENTURE&quot;</td><td>100.0</td></tr><tr><td>&quot;WO0000004925389&quot;</td><td>&quot;Flat&quot;</td><td>&quot;ACCENTURE&quot;</td><td>100.0</td></tr><tr><td>&quot;WO0000005024904&quot;</td><td>&quot;Flat&quot;</td><td>&quot;ACCENTURE&quot;</td><td>100.0</td></tr></tbody></table></div>"
      ],
      "text/plain": [
       "shape: (10, 4)\n",
       "┌─────────────────┬────────────────┬───────────┬────────────────┐\n",
       "│ TicketID        ┆ Tipo de Ticket ┆ Proveedor ┆ Costo Atencion │\n",
       "│ ---             ┆ ---            ┆ ---       ┆ ---            │\n",
       "│ str             ┆ str            ┆ str       ┆ f64            │\n",
       "╞═════════════════╪════════════════╪═══════════╪════════════════╡\n",
       "│ WO0000004544943 ┆ Rechazado      ┆ null      ┆ 100.0          │\n",
       "│ WO0000004545246 ┆ Rechazado      ┆ null      ┆ 100.0          │\n",
       "│ WO0000004559125 ┆ Rechazado      ┆ null      ┆ 100.0          │\n",
       "│ WO0000004707477 ┆ Rechazado      ┆ null      ┆ 100.0          │\n",
       "│ WO0000004759976 ┆ Rechazado      ┆ null      ┆ 100.0          │\n",
       "│ WO0000004795876 ┆ Rechazado      ┆ null      ┆ 100.0          │\n",
       "│ WO0000004825300 ┆ Rechazado      ┆ null      ┆ 100.0          │\n",
       "│ WO0000004853680 ┆ Flat           ┆ ACCENTURE ┆ 100.0          │\n",
       "│ WO0000004925389 ┆ Flat           ┆ ACCENTURE ┆ 100.0          │\n",
       "│ WO0000005024904 ┆ Flat           ┆ ACCENTURE ┆ 100.0          │\n",
       "└─────────────────┴────────────────┴───────────┴────────────────┘"
      ]
     },
     "execution_count": 58,
     "metadata": {},
     "output_type": "execute_result"
    }
   ],
   "source": [
    "Atenciones.head(10)"
   ]
  },
  {
   "cell_type": "markdown",
   "metadata": {},
   "source": [
    "## UNIFICANDO LOS DATAFRAMES"
   ]
  },
  {
   "cell_type": "code",
   "execution_count": null,
   "metadata": {},
   "outputs": [],
   "source": []
  },
  {
   "cell_type": "code",
   "execution_count": null,
   "metadata": {},
   "outputs": [],
   "source": []
  },
  {
   "cell_type": "code",
   "execution_count": null,
   "metadata": {},
   "outputs": [],
   "source": []
  },
  {
   "cell_type": "code",
   "execution_count": null,
   "metadata": {},
   "outputs": [],
   "source": []
  },
  {
   "cell_type": "code",
   "execution_count": null,
   "metadata": {},
   "outputs": [],
   "source": []
  },
  {
   "cell_type": "code",
   "execution_count": null,
   "metadata": {},
   "outputs": [],
   "source": []
  }
 ],
 "metadata": {
  "kernelspec": {
   "display_name": "vTarea1",
   "language": "python",
   "name": "python3"
  },
  "language_info": {
   "codemirror_mode": {
    "name": "ipython",
    "version": 3
   },
   "file_extension": ".py",
   "mimetype": "text/x-python",
   "name": "python",
   "nbconvert_exporter": "python",
   "pygments_lexer": "ipython3",
   "version": "3.11.7"
  }
 },
 "nbformat": 4,
 "nbformat_minor": 2
}
